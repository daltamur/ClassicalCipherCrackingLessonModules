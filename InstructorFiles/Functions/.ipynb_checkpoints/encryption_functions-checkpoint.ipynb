{
 "cells": [
  {
   "cell_type": "markdown",
   "id": "6e38c14c",
   "metadata": {},
   "source": [
    "<h3>This file contains all the functions used for encryption. Curious students should keep away from this file until they finish all the modules!</h3>"
   ]
  },
  {
   "cell_type": "code",
   "execution_count": 156,
   "id": "c2729886",
   "metadata": {},
   "outputs": [
    {
     "data": {
      "text/plain": [
       "<module 'Parameters.parameters' from '/home/dominic/PycharmProjects/ClassicalCipherModule/InstructorFiles/Functions/Parameters/parameters.py'>"
      ]
     },
     "execution_count": 156,
     "metadata": {},
     "output_type": "execute_result"
    }
   ],
   "source": [
    "import sys\n",
    "import os\n",
    "import numpy as np\n",
    "from IPython.display import HTML\n",
    "from Parameters import parameters\n",
    "from importlib import reload\n",
    "from sage.matrix.constructor import random_echelonizable_matrix\n",
    "reload(parameters)"
   ]
  },
  {
   "cell_type": "code",
   "execution_count": 4,
   "id": "96416479",
   "metadata": {},
   "outputs": [],
   "source": [
    "def frequency_analysis_dict(value):\n",
    "    frequency = dict()\n",
    "    for char in value:\n",
    "        if char not in frequency:\n",
    "            frequency[char] = 1\n",
    "        else:\n",
    "            frequency[char] = frequency[char]+1\n",
    "    return sorted(frequency.items(), reverse=true, key=lambda item: item[1])"
   ]
  },
  {
   "cell_type": "code",
   "execution_count": 5,
   "id": "342073a5",
   "metadata": {},
   "outputs": [],
   "source": [
    "# finds the GCD of a set of numbers\n",
    "def gcd_set(nums):\n",
    "    print(len(nums))\n",
    "    if len(nums) == 2:\n",
    "        return gcd(nums[0], nums[1])\n",
    "    else:\n",
    "        return gcd(nums[0], gcd_set(nums[1:len(nums)]))"
   ]
  },
  {
   "cell_type": "code",
   "execution_count": 6,
   "id": "c6b6cf82",
   "metadata": {},
   "outputs": [],
   "source": [
    "# data is a list of ints extracted by getting the binary data of a variable\n",
    "def alberti_encrypt(data, inner_disc):\n",
    "    # The 'outer ring' is just values from 0 to 255 since that's the range of values a byte can be\n",
    "    # alphabet would be from 0 to 255 since that's how big a byte can be\n",
    "    period_increment = parameters.alberti_increment()\n",
    "    # length is short so that it doesn't become just a basic substitution cipher\n",
    "    period_length = parameters.alberti_period_length()\n",
    "    current_inc = 0\n",
    "    encoded_value = list()\n",
    "    # we'll use the numpy.roll function to shift our inner disc\n",
    "    for byte_value in data:\n",
    "        encoded_value.append(inner_disc[byte_value])\n",
    "        if current_inc == period_length:\n",
    "            inner_disc = list(np.roll(inner_disc, period_increment))\n",
    "            current_inc = 0\n",
    "        current_inc = current_inc+1\n",
    "    return encoded_value"
   ]
  },
  {
   "cell_type": "code",
   "execution_count": 7,
   "id": "8d2136d6",
   "metadata": {},
   "outputs": [],
   "source": [
    "#decryption requires the initial position of the inner disc, so we keep track of the initial inner_disc\n",
    "def alberti_decrypt(data, inner_disc):\n",
    "    # The 'outer ring' is just values from 0 to 255 since that's the range of values a byte can be\n",
    "    # alphabet would be from 0 to 255 since that's how big a byte can be\n",
    "    period_increment = 8\n",
    "    # length is short so that it doesn't become just a basic substitution cipher\n",
    "    period_length = 5\n",
    "    current_inc = 0\n",
    "    decoded_value = list()\n",
    "    # we'll use the numpy.roll function to shift our inner disc\n",
    "    for byte_value in data:\n",
    "        # to decode, you simply do the opposite \n",
    "        decoded_value.append(inner_disc.index(byte_value))\n",
    "        if current_inc == period_length:\n",
    "            inner_disc = list(np.roll(inner_disc, period_increment))\n",
    "            current_inc = 0\n",
    "        current_inc = current_inc+1\n",
    "    return decoded_value\n",
    "    "
   ]
  },
  {
   "cell_type": "code",
   "execution_count": 117,
   "id": "01386812-6d40-45ae-b71c-69c2d8297b40",
   "metadata": {},
   "outputs": [],
   "source": [
    "# Beaufort encryption decryption (only need one function since the encryption/decryption is the same)\n",
    "def beaufort_encrypt_decrypt(data):\n",
    "    # Since we are working with bytes, do subtraction modulo 256 for the key and data to be encoded\n",
    "    value = list()\n",
    "    beaufort_key = parameters.beaufort_key()\n",
    "    cur_key_pos = 0\n",
    "    for byte in data:\n",
    "        value.append(int(mod(beaufort_key[cur_key_pos]-byte, 256)))\n",
    "        if(cur_key_pos == len(beaufort_key)-1):\n",
    "            cur_key_pos=0\n",
    "        else:\n",
    "            cur_key_pos=cur_key_pos+1\n",
    "    return value"
   ]
  },
  {
   "cell_type": "code",
   "execution_count": 174,
   "id": "6a234aeb-1f56-4641-939b-d90c336af662",
   "metadata": {},
   "outputs": [],
   "source": [
    "#since this is going to be pretty involved already \n",
    "def transposition_encrypt(data):\n",
    "    transposition_key = parameters.transposition_key()\n",
    "    transposition_key_sorted = parameters.transposition_key()\n",
    "    transposition_key_sorted.sort()\n",
    "    chunks = list()\n",
    "    returned_list = list()\n",
    "    for i in range(0, len(data), len(transposition_key)):\n",
    "            chunks.append(data[i:i+len(transposition_key)])\n",
    "    for letter in transposition_key_sorted:\n",
    "        #get the index of the letter in the original transposition key\n",
    "        cur_index = transposition_key.index(letter)\n",
    "        for chunk in chunks:\n",
    "            if(cur_index < len(chunk)):\n",
    "                returned_list.append(chunk[cur_index])\n",
    "            else:\n",
    "                #put on a garbage value that wouldn't be a bit\n",
    "                returned_list.append(255)\n",
    "    return returned_list\n",
    "    "
   ]
  },
  {
   "cell_type": "code",
   "execution_count": 175,
   "id": "99cd8da9-5da5-42f9-a156-bf9600967bb5",
   "metadata": {},
   "outputs": [],
   "source": [
    "\n",
    "def transposition_decrypt(data):\n",
    "    transposition_key = parameters.transposition_key()\n",
    "    transposition_key_sorted = parameters.transposition_key()\n",
    "    transposition_key_sorted.sort()\n",
    "    chunks = list()\n",
    "    column_list = [None] * len(transposition_key)\n",
    "    returned_list = list()\n",
    "    if(mod(len(data), len(transposition_key))==0):\n",
    "        #the key is a divisor of the data length\n",
    "        #create the columns\n",
    "        column_length = int(len(data)/len(transposition_key))\n",
    "        for i in range(0, len(data), column_length):\n",
    "            chunks.append(data[i:i+column_length])\n",
    "        x=0   \n",
    "        for letter in transposition_key_sorted:\n",
    "            #reform the decrypted message by rebuilding the string in the order the letters appear in the unsorted transposition key\n",
    "            letter_index = transposition_key.index(letter)\n",
    "            column_list[letter_index] = chunks[x] \n",
    "            x=x+1\n",
    "        print(column_list)\n",
    "        for i in range(0,column_length):\n",
    "            for col in column_list:\n",
    "                returned_list.append(col[i])\n",
    "            \n",
    "    return [ele for ele in returned_list if ele < 255]"
   ]
  },
  {
   "cell_type": "code",
   "execution_count": 178,
   "id": "f944fc3c-5093-4728-9c84-f8a0ff3195fb",
   "metadata": {},
   "outputs": [],
   "source": [
    "#This function will encrypt all the videos and their corresponding test string with the appropriate encryption method\n",
    "def encrypt_videos():\n",
    "    #encrypt video 1 with alberti\n",
    "    inner_disc = parameters.alberti_innerdisc()\n",
    "    # with open('Texts/text1.txt') as file:\n",
    "    #     line = file.readlines()[0]\n",
    "    #     encoded_line = alberti_encrypt(bytes(line, 'utf-8'), inner_disc)\n",
    "    #     encrypted_text = open(\"Texts/text1Encrypted.txt\", \"wb\")\n",
    "    #     encrypted_text.write(bytes(encoded_line))\n",
    "    #     encrypted_text.close()\n",
    "    # with open('Videos/unencryptedVideos/successVideo1.mp4', 'rb') as file:\n",
    "    #     unencrypted_video = file.read()\n",
    "    #     encrypted_video = alberti_encrypt(np.frombuffer(unencrypted_video, dtype=np.uint8), inner_disc)\n",
    "    #     with open('Videos/encryptedVideos/encryptedVideo1.mp4', 'wb') as file:\n",
    "    #         file.write(bytes(encrypted_video))\n",
    "    #         file.close()\n",
    "    # print('video 1 encrypted!')\n",
    "    # #encrypt video 2 with beaufort\n",
    "    # with open('Texts/text2.txt') as file:\n",
    "    #     line = file.readlines()[0]\n",
    "    #     encoded_line = beaufort_encrypt_decrypt(bytes(line, 'utf-8'))\n",
    "    #     encrypted_text = open(\"Texts/text2Encrypted.txt\", \"wb\")\n",
    "    #     encrypted_text.write(bytes(encoded_line))\n",
    "    #     encrypted_text.close()\n",
    "    # with open('Videos/unencryptedVideos/successVideo2.mp4', 'rb') as file:\n",
    "    #     unencrypted_video = file.read()\n",
    "    #     encrypted_video = beaufort_encrypt_decrypt(np.frombuffer(unencrypted_video, dtype=np.uint8))\n",
    "    #     with open('Videos/encryptedVideos/encryptedVideo2.mp4', 'wb') as file:\n",
    "    #         file.write(bytes(encrypted_video))\n",
    "    #         file.close()\n",
    "    # print('video 2 encrypted!')\n",
    "    with open('Texts/text3.txt') as file:\n",
    "        line = file.readlines()[0]\n",
    "        encoded_line = transposition_encrypt(bytes(line, 'utf-8'))\n",
    "        encrypted_text = open(\"Texts/text3Encrypted.txt\", \"wb\")\n",
    "        encrypted_text.write(bytes(encoded_line))\n",
    "        encrypted_text.close()\n",
    "    with open('Videos/unencryptedVideos/successVideo3.mp4', 'rb') as file:\n",
    "        unencrypted_video = file.read()\n",
    "        encrypted_video = transposition_encrypt(np.frombuffer(unencrypted_video, dtype=np.uint8))\n",
    "        with open('Videos/encryptedVideos/encryptedVideo3.mp4', 'wb') as file:\n",
    "            file.write(bytes(encrypted_video))\n",
    "            file.close()\n",
    "    print('video 3 encrypted!')"
   ]
  },
  {
   "cell_type": "code",
   "execution_count": 179,
   "id": "1dab7264-ef64-40fd-b4d7-89e5a0f949e2",
   "metadata": {},
   "outputs": [
    {
     "name": "stdout",
     "output_type": "stream",
     "text": [
      "video 3 encrypted!\n"
     ]
    }
   ],
   "source": [
    "#This will take a bit of time (we are literally encrypting every single byte of a video)\n",
    "encrypt_videos()"
   ]
  },
  {
   "cell_type": "code",
   "execution_count": 5,
   "id": "8dd2c0ab-ccb4-486b-b2af-7ccbc42ed2ea",
   "metadata": {},
   "outputs": [
    {
     "name": "stdout",
     "output_type": "stream",
     "text": [
      "3757899\n"
     ]
    }
   ],
   "source": [
    "with open('Videos/unencryptedVideos/successVideo3.mp4', 'rb') as file:\n",
    "        unencrypted_video = file.read()\n",
    "        print(len(unencrypted_video))"
   ]
  },
  {
   "cell_type": "code",
   "execution_count": 169,
   "id": "29b5ec99-cf60-4656-8168-e4d9038fc2dd",
   "metadata": {},
   "outputs": [
    {
     "name": "stdout",
     "output_type": "stream",
     "text": [
      "HsmalctstestdbeteajriIeedslortlotlteaeswoimdenaTwbeteluIenrhseeynntosontaeOdsaeegtoHotoeeronshsLektgaeopiiltaityomleesInpddhpiodhykhItldvreueDonlyebdeewinnhanrnltslhsmeowfieteglraeocigaywhynueznreyolcDtmuoiotnrtewsewgayhielTIlhaeg\n",
      "[[72, 115, 109, 97, 108, 99, 116, 115, 116, 101, 115, 116, 100, 98, 101, 116, 101, 97, 106, 114, 105, 73, 101, 101, 100, 115, 108, 111, 114, 116, 108, 111, 116, 108, 116, 101, 97, 101, 115, 119, 111, 105, 109, 100, 101, 110, 97, 84, 119, 98, 101, 116, 101, 108, 117, 73, 101, 110], [101, 116, 101, 103, 108, 114, 97, 101, 111, 99, 105, 103, 97, 121, 119, 104, 121, 110, 117, 101, 122, 110, 114, 101, 121, 111, 108, 99, 68, 116, 109, 117, 111, 105, 111, 116, 110, 114, 116, 101, 119, 115, 101, 119, 103, 97, 121, 104, 105, 101, 108, 84, 73, 108, 104, 97, 101, 103], [114, 104, 115, 101, 101, 121, 110, 110, 116, 111, 115, 111, 110, 116, 97, 101, 79, 100, 115, 97, 101, 101, 103, 116, 111, 72, 111, 116, 111, 101, 101, 114, 111, 110, 115, 104, 115, 76, 101, 107, 116, 103, 97, 101, 111, 112, 105, 105, 108, 116, 97, 105, 116, 121, 111, 109, 108, 256], [101, 101, 115, 73, 110, 112, 100, 100, 104, 112, 105, 111, 100, 104, 121, 107, 104, 73, 116, 108, 100, 118, 114, 101, 117, 101, 68, 111, 110, 108, 121, 101, 98, 100, 101, 101, 119, 105, 110, 110, 104, 97, 110, 114, 110, 108, 116, 115, 108, 104, 115, 109, 101, 111, 119, 102, 105, 256]]\n",
      "HeresthemessageIllencryptandsendtothecopsisitgoodandbythewaythekeyOhandIjustrealizedInevergreetedyousoHelloDoctorDonttellmeyouretooblindtoseetheanswerListenweknowthisgameandweregonnaplayitThiswillbethelastTimeItellyouhowIamfeeling\n"
     ]
    }
   ],
   "source": [
    "data = list(bytes('HeresthemessageIllencryptandsendtothecopsisitgoodandbythewaythekeyOhandIjustrealizedInevergreetedyousoHelloDoctorDonttellmeyouretooblindtoseetheanswerListenweknowthisgameandweregonnaplayitThiswillbethelastTimeItellyouhowIamfeeling', 'utf-8'))\n",
    "val = transposition_encrypt(data)\n",
    "print(str(bytes([ele for ele in val if ele < 256]), 'utf-8'))\n",
    "val = transposition_decrypt(val)\n",
    "print(str(bytes(val), 'utf-8'))"
   ]
  },
  {
   "cell_type": "code",
   "execution_count": 182,
   "id": "7a8c46ce-cccb-4eb1-a5b3-6f1136bcf7d4",
   "metadata": {},
   "outputs": [],
   "source": [
    "    with open('Videos/encryptedVideos/encryptedVideo3.mp4', 'rb') as file:\n",
    "        unencrypted_video = file.read()\n",
    "        val = transposition_decrypt(val)\n",
    "        with open('unencryptedVideo2.mp4', 'wb') as videoFile:\n",
    "            encrypted_video = videoFile.write(bytes(val))\n",
    "            videoFile.close()"
   ]
  },
  {
   "cell_type": "code",
   "execution_count": null,
   "id": "983799fd-cd46-4dd0-b3cc-ba73595dc333",
   "metadata": {},
   "outputs": [],
   "source": []
  }
 ],
 "metadata": {
  "kernelspec": {
   "display_name": "SageMath 9.5",
   "language": "sage",
   "name": "sagemath"
  },
  "language_info": {
   "codemirror_mode": {
    "name": "ipython",
    "version": 3
   },
   "file_extension": ".py",
   "mimetype": "text/x-python",
   "name": "python",
   "nbconvert_exporter": "python",
   "pygments_lexer": "ipython3",
   "version": "3.10.6"
  }
 },
 "nbformat": 4,
 "nbformat_minor": 5
}
