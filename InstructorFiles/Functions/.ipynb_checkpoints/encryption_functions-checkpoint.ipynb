{
 "cells": [
  {
   "cell_type": "markdown",
   "id": "6e38c14c",
   "metadata": {},
   "source": [
    "<h3>This file contains all the functions used for encryption. Curious students should keep away from this file until they finish all the modules!</h3>"
   ]
  },
  {
   "cell_type": "code",
   "execution_count": 212,
   "id": "c2729886",
   "metadata": {},
   "outputs": [
    {
     "data": {
      "text/plain": [
       "<module 'Parameters.parameters' from '/home/dominic/PycharmProjects/ClassicalCipherModule/InstructorFiles/Functions/Parameters/parameters.py'>"
      ]
     },
     "execution_count": 212,
     "metadata": {},
     "output_type": "execute_result"
    }
   ],
   "source": [
    "import sys\n",
    "import os\n",
    "import numpy as np\n",
    "from IPython.display import HTML\n",
    "from Parameters import parameters\n",
    "from importlib import reload\n",
    "reload(parameters)"
   ]
  },
  {
   "cell_type": "code",
   "execution_count": 213,
   "id": "96416479",
   "metadata": {},
   "outputs": [],
   "source": [
    "def frequency_analysis_dict(value):\n",
    "    frequency = dict()\n",
    "    for char in value:\n",
    "        if char not in frequency:\n",
    "            frequency[char] = 1\n",
    "        else:\n",
    "            frequency[char] = frequency[char]+1\n",
    "    return sorted(frequency.items(), reverse=true, key=lambda item: item[1])"
   ]
  },
  {
   "cell_type": "code",
   "execution_count": 214,
   "id": "342073a5",
   "metadata": {},
   "outputs": [],
   "source": [
    "# finds the GCD of a set of numbers\n",
    "def gcd_set(nums):\n",
    "    print(len(nums))\n",
    "    if len(nums) == 2:\n",
    "        return gcd(nums[0], nums[1])\n",
    "    else:\n",
    "        return gcd(nums[0], gcd_set(nums[1:len(nums)]))"
   ]
  },
  {
   "cell_type": "code",
   "execution_count": 215,
   "id": "c6b6cf82",
   "metadata": {},
   "outputs": [],
   "source": [
    "# data is a list of ints extracted by getting the binary data of a variable\n",
    "def alberti_encrypt(data, inner_disc):\n",
    "    # The 'outer ring' is just values from 0 to 255 since that's the range of values a byte can be\n",
    "    # alphabet would be from 0 to 255 since that's how big a byte can be\n",
    "    period_increment = parameters.alberti_increment()\n",
    "    # length is short so that it doesn't become just a basic substitution cipher\n",
    "    period_length = parameters.alberti_period_length()\n",
    "    current_inc = 0\n",
    "    encoded_value = list()\n",
    "    # we'll use the numpy.roll function to shift our inner disc\n",
    "    for byte_value in data:\n",
    "        encoded_value.append(inner_disc[byte_value])\n",
    "        if current_inc == period_length:\n",
    "            inner_disc = list(np.roll(inner_disc, period_increment))\n",
    "            current_inc = 0\n",
    "        current_inc = current_inc+1\n",
    "    return encoded_value"
   ]
  },
  {
   "cell_type": "code",
   "execution_count": 216,
   "id": "8d2136d6",
   "metadata": {},
   "outputs": [],
   "source": [
    "#decryption requires the initial position of the inner disc, so we keep track of the initial inner_disc\n",
    "def alberti_decrypt(data, inner_disc):\n",
    "    # The 'outer ring' is just values from 0 to 255 since that's the range of values a byte can be\n",
    "    # alphabet would be from 0 to 255 since that's how big a byte can be\n",
    "    period_increment = 8\n",
    "    # length is short so that it doesn't become just a basic substitution cipher\n",
    "    period_length = 5\n",
    "    current_inc = 0\n",
    "    decoded_value = list()\n",
    "    # we'll use the numpy.roll function to shift our inner disc\n",
    "    for byte_value in data:\n",
    "        # to decode, you simply do the opposite \n",
    "        decoded_value.append(inner_disc.index(byte_value))\n",
    "        if current_inc == period_length:\n",
    "            inner_disc = list(np.roll(inner_disc, period_increment))\n",
    "            current_inc = 0\n",
    "        current_inc = current_inc+1\n",
    "    return decoded_value\n",
    "    "
   ]
  },
  {
   "cell_type": "code",
   "execution_count": 217,
   "id": "01386812-6d40-45ae-b71c-69c2d8297b40",
   "metadata": {},
   "outputs": [],
   "source": [
    "# Beaufort encryption decryption (only need one function since the encryption/decryption is the same)\n",
    "def beaufort_encrypt_decrypt(data):\n",
    "    # Since we are working with bytes, do subtraction modulo 256 for the key and data to be encoded\n",
    "    value = list()\n",
    "    beaufort_key = parameters.beaufort_key()\n",
    "    cur_key_pos = 0\n",
    "    for byte in data:\n",
    "        value.append(int(mod(beaufort_key[cur_key_pos]-byte, 256)))\n",
    "        if(cur_key_pos == len(beaufort_key)-1):\n",
    "            cur_key_pos=0\n",
    "        else:\n",
    "            cur_key_pos=cur_key_pos+1\n",
    "    return value"
   ]
  },
  {
   "cell_type": "code",
   "execution_count": 218,
   "id": "f79fd9a4-d088-440c-9f11-cbc78227ef39",
   "metadata": {},
   "outputs": [],
   "source": [
    "# Double Transposition goes here"
   ]
  },
  {
   "cell_type": "code",
   "execution_count": 219,
   "id": "f944fc3c-5093-4728-9c84-f8a0ff3195fb",
   "metadata": {},
   "outputs": [],
   "source": [
    "#This function will encrypt all the videos and their corresponding test string with the appropriate encryption method\n",
    "def encrypt_videos():\n",
    "    #encrypt video 1 with alberti\n",
    "    inner_disc = parameters.alberti_innerdisc()\n",
    "    with open('Texts/text1.txt') as file:\n",
    "        line = file.readlines()[0]\n",
    "        encoded_line = alberti_encrypt(bytes(line, 'utf-8'), inner_disc)\n",
    "        encrypted_text = open(\"Texts/text1Encrypted.txt\", \"wb\")\n",
    "        encrypted_text.write(bytes(encoded_line))\n",
    "        encrypted_text.close()\n",
    "    with open('Videos/unencryptedVideos/emilyImSorry.mp4', 'rb') as file:\n",
    "        unencrypted_video = file.read()\n",
    "        encrypted_video = alberti_encrypt(np.frombuffer(unencrypted_video, dtype=np.uint8), inner_disc)\n",
    "        with open('Videos/encryptedVideos/encryptedVideo1.mp4', 'wb') as file:\n",
    "            file.write(bytes(encrypted_video))\n",
    "            file.close()\n",
    "    print('video 1 encrypted!')\n",
    "    #encrypt video 2 with beaufort\n",
    "    with open('Texts/text2.txt') as file:\n",
    "        line = file.readlines()[0]\n",
    "        encoded_line = beaufort_encrypt_decrypt(bytes(line, 'utf-8'))\n",
    "        encrypted_text = open(\"Texts/text2Encrypted.txt\", \"wb\")\n",
    "        encrypted_text.write(bytes(encoded_line))\n",
    "        encrypted_text.close()\n",
    "    with open('Videos/unencryptedVideos/emilyImSorry.mp4', 'rb') as file:\n",
    "        unencrypted_video = file.read()\n",
    "        encrypted_video = beaufort_encrypt_decrypt(np.frombuffer(unencrypted_video, dtype=np.uint8))\n",
    "        with open('Videos/encryptedVideos/encryptedVideo2.mp4', 'wb') as file:\n",
    "            file.write(bytes(encrypted_video))\n",
    "            file.close()\n",
    "    print('video 2 encrypted!')\n",
    "    \n",
    "    #encrypt video 3 with the military one"
   ]
  },
  {
   "cell_type": "code",
   "execution_count": 220,
   "id": "1dab7264-ef64-40fd-b4d7-89e5a0f949e2",
   "metadata": {},
   "outputs": [
    {
     "name": "stdout",
     "output_type": "stream",
     "text": [
      "video 1 encrypted!\n",
      "video 2 encrypted!\n"
     ]
    }
   ],
   "source": [
    "encrypt_videos()"
   ]
  },
  {
   "cell_type": "code",
   "execution_count": 221,
   "id": "967cb4b0-bd04-4c1a-97af-fafe903a7a9a",
   "metadata": {},
   "outputs": [
    {
     "data": {
      "text/plain": [
       "'Lemmetalktoyayeah'"
      ]
     },
     "execution_count": 221,
     "metadata": {},
     "output_type": "execute_result"
    }
   ],
   "source": [
    "str(bytes(beaufort_encrypt_decrypt(beaufort_encrypt_decrypt(bytes('Lemmetalktoyayeah', 'utf-8')))), 'utf-8')"
   ]
  },
  {
   "cell_type": "code",
   "execution_count": null,
   "id": "588fe411-6297-4ce1-ba01-cb26497703d9",
   "metadata": {},
   "outputs": [],
   "source": []
  }
 ],
 "metadata": {
  "kernelspec": {
   "display_name": "SageMath 9.5",
   "language": "sage",
   "name": "sagemath"
  },
  "language_info": {
   "codemirror_mode": {
    "name": "ipython",
    "version": 3
   },
   "file_extension": ".py",
   "mimetype": "text/x-python",
   "name": "python",
   "nbconvert_exporter": "python",
   "pygments_lexer": "ipython3",
   "version": "3.10.6"
  }
 },
 "nbformat": 4,
 "nbformat_minor": 5
}
