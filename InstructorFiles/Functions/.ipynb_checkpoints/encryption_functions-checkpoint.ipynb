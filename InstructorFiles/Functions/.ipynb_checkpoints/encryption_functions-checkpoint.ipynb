{
 "cells": [
  {
   "cell_type": "markdown",
   "id": "6e38c14c",
   "metadata": {},
   "source": [
    "<h3>This file contains all the functions used for encryption. Curious students should keep away from this file until they finish all the modules!</h3>"
   ]
  },
  {
   "cell_type": "code",
   "execution_count": 48,
   "id": "c2729886",
   "metadata": {},
   "outputs": [
    {
     "data": {
      "text/plain": [
       "<module 'Parameters.parameters' from '/home/dominic/PycharmProjects/ClassicalCipherModule/InstructorFiles/Functions/Parameters/parameters.py'>"
      ]
     },
     "execution_count": 48,
     "metadata": {},
     "output_type": "execute_result"
    }
   ],
   "source": [
    "import sys\n",
    "import os\n",
    "import numpy as np\n",
    "from IPython.display import HTML\n",
    "from Parameters import parameters\n",
    "from importlib import reload\n",
    "from sage.matrix.constructor import random_echelonizable_matrix\n",
    "reload(parameters)"
   ]
  },
  {
   "cell_type": "code",
   "execution_count": 4,
   "id": "96416479",
   "metadata": {},
   "outputs": [],
   "source": [
    "def frequency_analysis_dict(value):\n",
    "    frequency = dict()\n",
    "    for char in value:\n",
    "        if char not in frequency:\n",
    "            frequency[char] = 1\n",
    "        else:\n",
    "            frequency[char] = frequency[char]+1\n",
    "    return sorted(frequency.items(), reverse=true, key=lambda item: item[1])"
   ]
  },
  {
   "cell_type": "code",
   "execution_count": 5,
   "id": "342073a5",
   "metadata": {},
   "outputs": [],
   "source": [
    "# finds the GCD of a set of numbers\n",
    "def gcd_set(nums):\n",
    "    print(len(nums))\n",
    "    if len(nums) == 2:\n",
    "        return gcd(nums[0], nums[1])\n",
    "    else:\n",
    "        return gcd(nums[0], gcd_set(nums[1:len(nums)]))"
   ]
  },
  {
   "cell_type": "code",
   "execution_count": 6,
   "id": "c6b6cf82",
   "metadata": {},
   "outputs": [],
   "source": [
    "# data is a list of ints extracted by getting the binary data of a variable\n",
    "def alberti_encrypt(data, inner_disc):\n",
    "    # The 'outer ring' is just values from 0 to 255 since that's the range of values a byte can be\n",
    "    # alphabet would be from 0 to 255 since that's how big a byte can be\n",
    "    period_increment = parameters.alberti_increment()\n",
    "    # length is short so that it doesn't become just a basic substitution cipher\n",
    "    period_length = parameters.alberti_period_length()\n",
    "    current_inc = 0\n",
    "    encoded_value = list()\n",
    "    # we'll use the numpy.roll function to shift our inner disc\n",
    "    for byte_value in data:\n",
    "        encoded_value.append(inner_disc[byte_value])\n",
    "        if current_inc == period_length:\n",
    "            inner_disc = list(np.roll(inner_disc, period_increment))\n",
    "            current_inc = 0\n",
    "        current_inc = current_inc+1\n",
    "    return encoded_value"
   ]
  },
  {
   "cell_type": "code",
   "execution_count": 7,
   "id": "8d2136d6",
   "metadata": {},
   "outputs": [],
   "source": [
    "#decryption requires the initial position of the inner disc, so we keep track of the initial inner_disc\n",
    "def alberti_decrypt(data, inner_disc):\n",
    "    # The 'outer ring' is just values from 0 to 255 since that's the range of values a byte can be\n",
    "    # alphabet would be from 0 to 255 since that's how big a byte can be\n",
    "    period_increment = 8\n",
    "    # length is short so that it doesn't become just a basic substitution cipher\n",
    "    period_length = 5\n",
    "    current_inc = 0\n",
    "    decoded_value = list()\n",
    "    # we'll use the numpy.roll function to shift our inner disc\n",
    "    for byte_value in data:\n",
    "        # to decode, you simply do the opposite \n",
    "        decoded_value.append(inner_disc.index(byte_value))\n",
    "        if current_inc == period_length:\n",
    "            inner_disc = list(np.roll(inner_disc, period_increment))\n",
    "            current_inc = 0\n",
    "        current_inc = current_inc+1\n",
    "    return decoded_value\n",
    "    "
   ]
  },
  {
   "cell_type": "code",
   "execution_count": 8,
   "id": "01386812-6d40-45ae-b71c-69c2d8297b40",
   "metadata": {},
   "outputs": [],
   "source": [
    "# Beaufort encryption decryption (only need one function since the encryption/decryption is the same)\n",
    "def beaufort_encrypt_decrypt(data):\n",
    "    # Since we are working with bytes, do subtraction modulo 256 for the key and data to be encoded\n",
    "    value = list()\n",
    "    beaufort_key = parameters.beaufort_key()\n",
    "    cur_key_pos = 0\n",
    "    for byte in data:\n",
    "        value.append(int(mod(beaufort_key[cur_key_pos]-byte, 256)))\n",
    "        if(cur_key_pos == len(beaufort_key)-1):\n",
    "            cur_key_pos=0\n",
    "        else:\n",
    "            cur_key_pos=cur_key_pos+1\n",
    "    return value"
   ]
  },
  {
   "cell_type": "code",
   "execution_count": 2,
   "id": "f79fd9a4-d088-440c-9f11-cbc78227ef39",
   "metadata": {},
   "outputs": [],
   "source": [
    "# Hill Cipher encryption/decryption\n",
    "def hill_encrypt_decrypt():\n",
    "    print('hello')"
   ]
  },
  {
   "cell_type": "code",
   "execution_count": 10,
   "id": "f944fc3c-5093-4728-9c84-f8a0ff3195fb",
   "metadata": {},
   "outputs": [],
   "source": [
    "#This function will encrypt all the videos and their corresponding test string with the appropriate encryption method\n",
    "def encrypt_videos():\n",
    "    #encrypt video 1 with alberti\n",
    "    inner_disc = parameters.alberti_innerdisc()\n",
    "    with open('Texts/text1.txt') as file:\n",
    "        line = file.readlines()[0]\n",
    "        encoded_line = alberti_encrypt(bytes(line, 'utf-8'), inner_disc)\n",
    "        encrypted_text = open(\"Texts/text1Encrypted.txt\", \"wb\")\n",
    "        encrypted_text.write(bytes(encoded_line))\n",
    "        encrypted_text.close()\n",
    "    with open('Videos/unencryptedVideos/successVideo1.mp4', 'rb') as file:\n",
    "        unencrypted_video = file.read()\n",
    "        encrypted_video = alberti_encrypt(np.frombuffer(unencrypted_video, dtype=np.uint8), inner_disc)\n",
    "        with open('Videos/encryptedVideos/encryptedVideo1.mp4', 'wb') as file:\n",
    "            file.write(bytes(encrypted_video))\n",
    "            file.close()\n",
    "    print('video 1 encrypted!')\n",
    "    #encrypt video 2 with beaufort\n",
    "    with open('Texts/text2.txt') as file:\n",
    "        line = file.readlines()[0]\n",
    "        encoded_line = beaufort_encrypt_decrypt(bytes(line, 'utf-8'))\n",
    "        encrypted_text = open(\"Texts/text2Encrypted.txt\", \"wb\")\n",
    "        encrypted_text.write(bytes(encoded_line))\n",
    "        encrypted_text.close()\n",
    "    with open('Videos/unencryptedVideos/successVideo2.mp4', 'rb') as file:\n",
    "        unencrypted_video = file.read()\n",
    "        encrypted_video = beaufort_encrypt_decrypt(np.frombuffer(unencrypted_video, dtype=np.uint8))\n",
    "        with open('Videos/encryptedVideos/encryptedVideo2.mp4', 'wb') as file:\n",
    "            file.write(bytes(encrypted_video))\n",
    "            file.close()\n",
    "    with open('Videos/unencryptedVideos/successVideo3.mp4', 'rb') as file:\n",
    "        unencrypted_video = file.read()\n",
    "        # a factor of the video's byte length is 43, so I am forcing the key for the hill cipher to be a 43x43 matrix.\n",
    "    print('video 2 encrypted!')\n",
    "    #encrypt video 3 with double transposition here"
   ]
  },
  {
   "cell_type": "code",
   "execution_count": 12,
   "id": "1dab7264-ef64-40fd-b4d7-89e5a0f949e2",
   "metadata": {},
   "outputs": [
    {
     "name": "stdout",
     "output_type": "stream",
     "text": [
      "video 1 encrypted!\n",
      "video 2 encrypted!\n"
     ]
    }
   ],
   "source": [
    "#This will take a bit of time (we are literally encrypting every single byte of a video)\n",
    "encrypt_videos()"
   ]
  },
  {
   "cell_type": "code",
   "execution_count": 5,
   "id": "8dd2c0ab-ccb4-486b-b2af-7ccbc42ed2ea",
   "metadata": {},
   "outputs": [
    {
     "name": "stdout",
     "output_type": "stream",
     "text": [
      "3757899\n"
     ]
    }
   ],
   "source": [
    "with open('Videos/unencryptedVideos/successVideo3.mp4', 'rb') as file:\n",
    "        unencrypted_video = file.read()\n",
    "        print(len(unencrypted_video))"
   ]
  },
  {
   "cell_type": "code",
   "execution_count": 8,
   "id": "15228720-03aa-4ded-b487-1a4abb5abe37",
   "metadata": {},
   "outputs": [
    {
     "data": {
      "text/plain": [
       "3 * 43 * 29131"
      ]
     },
     "execution_count": 8,
     "metadata": {},
     "output_type": "execute_result"
    }
   ],
   "source": [
    "factor(3757899)"
   ]
  },
  {
   "cell_type": "code",
   "execution_count": 9,
   "id": "515f22f4-201a-4519-a71e-386ade0b1f03",
   "metadata": {},
   "outputs": [
    {
     "data": {
      "text/plain": [
       "87393"
      ]
     },
     "execution_count": 9,
     "metadata": {},
     "output_type": "execute_result"
    }
   ],
   "source": [
    "3757899/43"
   ]
  },
  {
   "cell_type": "code",
   "execution_count": 30,
   "id": "78f02ee6-ba69-430f-a643-dc0b6b0bbc5d",
   "metadata": {},
   "outputs": [
    {
     "data": {
      "text/plain": [
       "array([[ 39, 103, 227, ...,  56,  48,  40],\n",
       "       [139, 240, 237, ..., 202, 157,  23],\n",
       "       [192,  46, 148, ..., 254, 230,  14],\n",
       "       ...,\n",
       "       [ 42,  20,  26, ..., 237, 130,  84],\n",
       "       [212,  61, 150, ..., 208, 197, 117],\n",
       "       [227, 161, 108, ...,  58,  82,  94]])"
      ]
     },
     "execution_count": 30,
     "metadata": {},
     "output_type": "execute_result"
    }
   ],
   "source": [
    "parameters.get_hill_cipher_key()"
   ]
  },
  {
   "cell_type": "code",
   "execution_count": 40,
   "id": "abc8131e-edba-4287-9319-870b63286ff2",
   "metadata": {},
   "outputs": [
    {
     "data": {
      "text/plain": [
       "43 x 43 dense matrix over Ring of integers modulo 256 (use the '.str()' method to see the entries)"
      ]
     },
     "execution_count": 55,
     "metadata": {},
     "output_type": "execute_result"
    }
   ],
   "source": [
    "random_matrix = Matrix(IntegerModRing(256), parameters.get_hill_cipher_key().tolist())\n",
    "while random_matrix.is_singular:\n",
    "    random_matrix = Matrix(IntegerModRing(256), parameters.get_hill_cipher_key().tolist())\n",
    "    \n",
    "print(random_matrix.inverse().str)"
   ]
  },
  {
   "cell_type": "code",
   "execution_count": 74,
   "id": "4aa71219-8827-4103-a323-eb8363efcf08",
   "metadata": {},
   "outputs": [
    {
     "data": {
      "text/plain": [
       "'[195 202  74 229 182 125 250  14 191 166  34 145  23 169 100  89 253  68 103  32  13 191 167 150  44 232  36 223 193 144  52 181  64 142 200  29 209 145 155  56 161 246  90]\\n[ 92  72 211  17  45   4 213 231 168  63 245  66  48  11 239  81 198 147 240 124   4  88 199  42 208  36 141  25 214 217 195 132  94  87  43 209   5  47 118 164 182  16 246]\\n[ 34 206 118 174  62  51  48 174  17 176  11 159  54 239 177  18 230 247 249 249 165  34  78 220 221 249 231 131 230  16 221 123  33 145 104 242 154 166 250 209 153 176  74]\\n[143  61  71 253 214 155 110  61  83  52 224 177 137  80 247 107  48 173  91  96 247 171 247  66 214 127 184 137  84 176   4 231 127  43  91  60  68  23 242  36 241 207 156]\\n[ 53  66   9 251  26 196  82 197 174  31  27 226 240 223  67 132  68  78  43  65  70 228   7 124 149 133  86  29 144  60 140 109  86  29 113 251 200  30 102 112  65 136  11]\\n[237  35 142  13  69  73 223 175 138  21 180 228  72 167 231  11 225 140  52 141 219  27 106 191 133  55 170 161  42 200  64 180 243 183 180 213  60 156 218  56  83  79 129]\\n[ 93 153  91  30  36 155 180  96 127  47  11 151  98 202  12  25 141  91 214 241 126 105  59 187 225 193 249 170 248  41  92 133 248  66  10  35 197  74  40 240 126  91 211]\\n[102  91  70 212  26 247 107 148 253  31 150 117  21 165 247  20 154 206 242 226 100 220 206 198  79 230 152 251 208  98  62 190 252  28 233 244 163 216 107  56  66  24 109]\\n[157 112  56 251 148  69  55 109 218  33  41  25 226 100  28 147  84 185  33 110 123  89 251 228 216  58 193 233 252  67   9 179 252 236  97  76 205 214 179  32  94 216  26]\\n[111 166 173 167 182  28 187 181 209 241 146 172  43  34 105  91 234 237  50  86 138  51 161 107 206 160  40   2 116 245 151 205 148  54 146  46  45 130 205  15  73 248   5]\\n[ 52  50 192 254 196 211  34 147 103  39 208 203  95 105 235 188  37 179 236 242 120 221 144  61 208 158  32 139 244 185  34 111  92  19 247 158 244  92 195  71 166 252 123]\\n[ 85 187 218 200  94  94  18 224   1  98 175 104 162  97 148  46   8 251 184 152  55 206 216   0  28   9 137 239 196 216 160  29  92  38  77 223  41 176  18   9 103 235 132]\\n[227 125 115 141  55  11  18 120 212  19 138 238 123 162  67 106 177 163 113 160 108  59 195 196 209   9   6  28 153  53 177  40 234 162 130 189 114 244  18  17 124 118 201]\\n[ 49   5 187  35 167 176 251  83 241 211 189  15  66 174  81  29 193  86 149 102 244 253  33 125  27  30 198 190 137 245  66 107 114 215 192  97 173  52  97 134  56 187 171]\\n[127  21 238 199 236  98  85  61 131 254 173 192  44 149  86  40 225 193 221 118 254  79  77 189 163  73 207 126 114  41  82  34 105  91 173  98 114 232 123  92  98 165 176]\\n[ 83   1  13 225 146 181  81 252  85 211 214 146  76  34 140 179  61  95 103 245 186 219 124 149  29 254 194  25  26  78 124 171  71  42 114 158 161  33 176 206 197 121 249]\\n[208  28 181  35 232 208  24  84  44  26 183 219 195 209 119 201  93 253  17 252  56 165 182   1 225  94  12 159  86  84 131 116 152 227  33 165 239  71 152 187 187 119 143]\\n[189  16 105  13 130  20  81  50  58   8 113 197  25 148  78 200  44 150  35 155 136  12 133  45 139   5 219 159  71 224 108  28  79 113  48   0 231 165 191  19  11  23 142]\\n[158 150  58 254 166 131 243 113  27 105 176 110  53  34 116 140 165  36 192 234 110 156 160 156 214  52 157 146 166 131 177 152 173  31 146 168 117 222 133  23  68 207 122]\\n[133 214  11  20  83  58  22 197 130 221 238  54 143  89  59 158 166 230 254 119 236  85  83 232 143  38 126 122  65  10  90 183  55 223  27 133 155 218 192 230  86  52 137]\\n[134  88 235 240 188 137 255 227 228 151 109 150 134 223 212  94  18 203 116  33 251 105 244 209  16   4  42  91  45  15  39 110 160 148  61 127 174 131 215 149 121  94 198]\\n[167 117 236 116  23 200 189 188  71 142 241 173 207 101  59 231  31  60   0 176  21  25 255  86 178  89  87 250 130 199 199  81 129 205 144 173  30  48 189 201  61  66  26]\\n[ 38 144 246 136 255 119 130  45 168  71  51 122  13 153 171 193 183  78  18 206 130 156 123  36  19 157  67 205 248   1   6  83  78 168 250 135 208 143  38 157  66 155 119]\\n[173 190 103 171 184 119 103 160  42 234 192 183 119 210 165  71 205 144 187  16   5  44  81  72 201  39 132 131  30 140  44  40 133 113  73 237 245 137 139  61 121  70  72]\\n[225 134  13 243 131  22 158  11 158  79  69 210  30 184 119  51 183  63 221 211 193  95 241 211 214 125  79 143 227 213 142 233 166 240 221  58  18 159 247  89 135 184  71]\\n[217 253 142 150 250 126  12  61  99 125 101 101  42  19 132 243  34 113 185  93 126  31  78  76 179 216 208 199 162  82 126  17  58 208 188 205  89  79   3 134  47 241 243]\\n[  7  80 205   9 191 195  40 106 112 183 190  78  71 242 236 237 101 184  46 228 121 214  13   6  63  56  71   4  52  52  62 129 180 170 204  39  93 195 212   9 130  92 118]\\n[184 199 157  81  61 254   3 171   0 172  26  85 233  96   0 137 224  53  25 112  41  40   4 156 157 188  41  60   8 137 109 192 122 179 118 195 153 112  41 111  64 123 134]\\n[219 234 129   9  51 199 158 180 255 141 174  91 170 182 212 235 137  61 194 210 198 155 213 147 107 247 119 114 123 161  38  31 241 116 245 143 244  72 212 235  87 128 188]\\n[120 237 104  38 213 165 251 214  29 111 118 116  79 184 178 137   1 212   0  90  31 123  10 141 130   8 102 106 106 155  17  31 182 179   5  30 221   9 215 133 112  19  21]\\n[ 79  41 222 235 185  31 228   6 222  63 154  11  63 179  51  79 166  25 121   3 162  63  85 229 147 242 167  66  81  63  16 254 164 141  72  20 243 254  27 230  52 239  49]\\n[159  78 148  87 246 190 239  26 216  45  35 236 184 237  54  90 176 208  98 161 105 217  48 185  31 253 193  13  38  58 196 141  51 251 153  94 183 255 147  23  73 101 116]\\n[ 24 115 168  71 126  19  60  25 237 127 182 176  67  58  10 113  72 222  85 118 123 101  90 144  34  77 200 107  37  65  79 231  54 134   7   2  32 253  40 176  29  55 208]\\n[  4 228 143  54 117 120  39 237  56 243 240 229  84  92 220 205  60  79 170 112  65 232 232 224 195  99 150  95 104  45 174  73 133  85 162 252 179  45 115  76  74  63 184]\\n[186 235 161  93  12 192  90  23   5  77 168  13 134  56 184 236 138 213 154  63 218 223 186 213  70  63  56 213 248 249  99 139  63  27 194 225 166  22 211  46   4 166 118]\\n[105 176 100 247  89 145 248 159 171  68 201 228  21 147  66  31  30 245 212 148 220 135 105  52  28 180 251 141  84  99  28 235 142 171  10  95  45  71 123 255 138 123   8]\\n[ 34 206 179  62 229 197  32   3  11 125 107  91 118  96 248  88 189 207 201  73 231 106 233 237  22 186   9 108  18 106  71 102  67 125 117 223 171 172  63  18 160  61 205]\\n[ 83 216 216 255  93  65 211 114  62  84  20 199  54  86 133 103  28  55  86 210 133  69 240 224 247 249 217  14  13  49 105  97 191 185  72 164 229  92  27 225  28 243 215]\\n[105 157 226 210  17 167 196  33  46 134 249 223 246  26 224  39 212 234 126 223 103 220 234  89 205 112  80 169 133 130 199 151 130 148  86 251  32 254  39 102 153 159  10]\\n[205 182 112 206 131 160 100 185 226  94 197 220  83  38 141 141  16 128 204 204  81   3 166 100 194  35  94 124 123  67 194  62  33  75 252 158 141  82  32 183  19 128 146]\\n[ 85 180 212 125 227  17  72 158 133  68  53  18 187 227   3 209 120 127 140  63   2 249 221 253 195 224  45 176  96 139 183 151 240  60 140 146  28  68 145  52  99 118  16]\\n[200 109 106  58  48  26 140 211 159  59  74 176 149   2  49 113  79  43  17 103 214 243   2 180  23 227 144  32 179 127 177  32 240 213 246 165  87  36  15 174 127  82 251]\\n[157 238  45 143  11  52  31 252 121 212 245  74 161 230 230   6 149  10  44 179 248  85  44  28 170 189  94 165 220 230   4  15  24 166  57  43  56 197 145   7 175 103 132]'"
      ]
     },
     "execution_count": 74,
     "metadata": {},
     "output_type": "execute_result"
    }
   ],
   "source": [
    "sage.matrix.special.random_matrix(IntegerModRing(256), 43, 43).inverse().str()"
   ]
  },
  {
   "cell_type": "code",
   "execution_count": 72,
   "id": "728a8dab-5ad6-4b7a-b66c-d1f867fcbf44",
   "metadata": {},
   "outputs": [
    {
     "ename": "TypeError",
     "evalue": "'sage.rings.finite_rings.integer_mod.IntegerMod_int' object is not callable",
     "output_type": "error",
     "traceback": [
      "\u001b[0;31m---------------------------------------------------------------------------\u001b[0m",
      "\u001b[0;31mTypeError\u001b[0m                                 Traceback (most recent call last)",
      "\u001b[0;32m/tmp/ipykernel_671395/3330540465.py\u001b[0m in \u001b[0;36m<module>\u001b[0;34m\u001b[0m\n\u001b[0;32m----> 1\u001b[0;31m \u001b[0mrandom_matrix\u001b[0m\u001b[0;34m(\u001b[0m\u001b[0mZZ\u001b[0m\u001b[0;34m,\u001b[0m\u001b[0mInteger\u001b[0m\u001b[0;34m(\u001b[0m\u001b[0;36m7\u001b[0m\u001b[0;34m)\u001b[0m\u001b[0;34m,\u001b[0m\u001b[0mInteger\u001b[0m\u001b[0;34m(\u001b[0m\u001b[0;36m7\u001b[0m\u001b[0;34m)\u001b[0m\u001b[0;34m)\u001b[0m\u001b[0;34m\u001b[0m\u001b[0;34m\u001b[0m\u001b[0m\n\u001b[0m",
      "\u001b[0;32m/usr/lib/python3/dist-packages/sage/matrix/matrix0.pyx\u001b[0m in \u001b[0;36msage.matrix.matrix0.Matrix.__call__ (build/cythonized/sage/matrix/matrix0.c:17424)\u001b[0;34m()\u001b[0m\n\u001b[1;32m   2353\u001b[0m         \"\"\"\n\u001b[1;32m   2354\u001b[0m         \u001b[0;32mfrom\u001b[0m \u001b[0;34m.\u001b[0m\u001b[0mconstructor\u001b[0m \u001b[0;32mimport\u001b[0m \u001b[0mmatrix\u001b[0m\u001b[0;34m\u001b[0m\u001b[0;34m\u001b[0m\u001b[0m\n\u001b[0;32m-> 2355\u001b[0;31m         \u001b[0;32mreturn\u001b[0m \u001b[0mmatrix\u001b[0m\u001b[0;34m(\u001b[0m\u001b[0mself\u001b[0m\u001b[0;34m.\u001b[0m\u001b[0mnrows\u001b[0m\u001b[0;34m(\u001b[0m\u001b[0;34m)\u001b[0m\u001b[0;34m,\u001b[0m \u001b[0mself\u001b[0m\u001b[0;34m.\u001b[0m\u001b[0mncols\u001b[0m\u001b[0;34m(\u001b[0m\u001b[0;34m)\u001b[0m\u001b[0;34m,\u001b[0m \u001b[0;34m[\u001b[0m\u001b[0me\u001b[0m\u001b[0;34m(\u001b[0m\u001b[0;34m*\u001b[0m\u001b[0margs\u001b[0m\u001b[0;34m,\u001b[0m \u001b[0;34m**\u001b[0m\u001b[0mkwargs\u001b[0m\u001b[0;34m)\u001b[0m \u001b[0;32mfor\u001b[0m \u001b[0me\u001b[0m \u001b[0;32min\u001b[0m \u001b[0mself\u001b[0m\u001b[0;34m.\u001b[0m\u001b[0mlist\u001b[0m\u001b[0;34m(\u001b[0m\u001b[0;34m)\u001b[0m\u001b[0;34m]\u001b[0m\u001b[0;34m)\u001b[0m\u001b[0;34m\u001b[0m\u001b[0;34m\u001b[0m\u001b[0m\n\u001b[0m\u001b[1;32m   2356\u001b[0m \u001b[0;34m\u001b[0m\u001b[0m\n\u001b[1;32m   2357\u001b[0m     \u001b[0;31m###################################################\u001b[0m\u001b[0;34m\u001b[0m\u001b[0;34m\u001b[0m\u001b[0m\n",
      "\u001b[0;31mTypeError\u001b[0m: 'sage.rings.finite_rings.integer_mod.IntegerMod_int' object is not callable"
     ]
    }
   ],
   "source": [
    "random_matrix(ZZ,7,7)"
   ]
  },
  {
   "cell_type": "code",
   "execution_count": 51,
   "id": "f44bab26-78f4-49b7-9b5a-48d85680654b",
   "metadata": {},
   "outputs": [
    {
     "data": {
      "text/plain": [
       "Ring of integers modulo 256"
      ]
     },
     "execution_count": 52,
     "metadata": {},
     "output_type": "execute_result"
    }
   ],
   "source": [
    "ZZ"
   ]
  },
  {
   "cell_type": "code",
   "execution_count": null,
   "id": "c4968cac-ff05-481e-9f22-9a47544bc662",
   "metadata": {},
   "outputs": [],
   "source": []
  }
 ],
 "metadata": {
  "kernelspec": {
   "display_name": "SageMath 9.5",
   "language": "sage",
   "name": "sagemath"
  },
  "language_info": {
   "codemirror_mode": {
    "name": "ipython",
    "version": 3
   },
   "file_extension": ".py",
   "mimetype": "text/x-python",
   "name": "python",
   "nbconvert_exporter": "python",
   "pygments_lexer": "ipython3",
   "version": "3.10.6"
  }
 },
 "nbformat": 4,
 "nbformat_minor": 5
}
