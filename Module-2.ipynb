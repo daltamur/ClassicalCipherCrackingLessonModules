{
 "cells": [
  {
   "cell_type": "code",
   "execution_count": 175,
   "id": "75253bcb-8b9f-4997-b410-da86ac7ceccf",
   "metadata": {},
   "outputs": [],
   "source": [
    "import sys\n",
    "import os\n",
    "import numpy as np\n",
    "from IPython.display import HTML\n",
    "from GetEncryptedData import getModuleData\n",
    "from importlib import reload\n",
    "import pandas as pd\n",
    "import matplotlib.pyplot as plt\n",
    "from InstructorFiles.Functions.Parameters import parameters"
   ]
  },
  {
   "cell_type": "markdown",
   "id": "594c98a2-298b-407a-8ea2-cb57470d33e0",
   "metadata": {},
   "source": [
    "<h1>INITIAL DATA! DO NOT OVERWRITE! Make copies of them to work with.</h1>"
   ]
  },
  {
   "cell_type": "code",
   "execution_count": 121,
   "id": "f5474ab2-0f4e-4192-a64f-bc07bdd4ca08",
   "metadata": {},
   "outputs": [],
   "source": [
    "def save_video(video_data):\n",
    "    with open('unencryptedVideo2.mp4', 'wb') as videoFile:\n",
    "        encrypted_video = videoFile.write(bytes(video_data))\n",
    "        videoFile.close()\n",
    "        \n",
    "def frequency_analysis_dict(value):\n",
    "    frequency = dict()\n",
    "    for char in value:\n",
    "        if char not in frequency:\n",
    "            frequency[char] = int(1)\n",
    "        else:\n",
    "            frequency[char] = int(frequency[char]+1)\n",
    "    return sorted(frequency.items(), reverse=true, key=lambda item: item[1])"
   ]
  },
  {
   "cell_type": "code",
   "execution_count": 122,
   "id": "45bdb380-2f83-4046-aeea-378bd344aff1",
   "metadata": {},
   "outputs": [],
   "source": [
    "encrypted_video = None\n",
    "encrypted_text = None\n",
    "with open('InstructorFiles/Functions/Videos/encryptedVideos/encryptedVideo2.mp4', 'rb') as videoFile:\n",
    "    encrypted_video = list(videoFile.read())\n",
    "\n",
    "with open('InstructorFiles/Functions/Texts/text2Encrypted.txt', 'rb') as textData:\n",
    "    encrypted_text = list(textData.read())"
   ]
  },
  {
   "cell_type": "code",
   "execution_count": 167,
   "id": "f98be1a5-8edd-4382-bcdd-01505e42cd1b",
   "metadata": {},
   "outputs": [
    {
     "data": {
      "text/html": [
       "\n",
       "    <video alt=\"Video1\" controls>\n",
       "        <source src=\"InstructorFiles/Functions/Videos/encryptedVideos/encryptedVideo2.mp4\" type=\"video/mp4\">\n",
       "    </video>\n"
      ],
      "text/plain": [
       "<IPython.core.display.HTML object>"
      ]
     },
     "execution_count": 167,
     "metadata": {},
     "output_type": "execute_result"
    }
   ],
   "source": [
    "#Initial video. Go ahead and test it, you'lll find the encryption has left it unplayable...\n",
    "HTML(\"\"\"\n",
    "    <video alt=\"Video1\" controls>\n",
    "        <source src=\"InstructorFiles/Functions/Videos/encryptedVideos/encryptedVideo2.mp4\" type=\"video/mp4\">\n",
    "    </video>\n",
    "\"\"\")"
   ]
  },
  {
   "cell_type": "markdown",
   "id": "7e4f18d2-f51a-4219-b6d3-3b772f7b28cc",
   "metadata": {},
   "source": [
    "<h1>Lesson 2:The Kasiski Mentality</h2>"
   ]
  },
  {
   "cell_type": "markdown",
   "id": "b98f2423-d0ae-4f32-8eed-b91269b7ea95",
   "metadata": {},
   "source": [
    "<p>Now that we got the first piece of Dr. Encrypto's message, the boys over on the field have received his next message that he is sending to us. After some reconnaissance, we've determined that the message was encrypted with the Beaufort cipher. With time quickly running out to save the world, you head to your office and begin researching everything you can about the Beaufort cipher</p>"
   ]
  },
  {
   "cell_type": "markdown",
   "id": "3ac9219c-3a58-4de1-bedd-b284e2fbaf9a",
   "metadata": {},
   "source": [
    "<h3>Beaufort Cipher explained</h3>\n",
    "<p>The Beaufort cipher is a lot easier understood after first discussing the Vignere ciphers. Vignere ciphers work by choosing some cipher keyword and then mapping that keyword across the entire plaintext. So, for example, suppose our keyword is simply \"KEY\" and the plaintext is \"ENCRYPTIONISFUN\". We would map the keyword across the plaintext such that the key is repeated as necessary across the plaintext. We can model this relationship with</p>\n",
    "<p>$ENCRYPTIONISFUN$</p>\n",
    "<p>$KEYKEYKEYKEYKEY$</p>\n",
    "<p>To encrypt a text, we add the position of the plaintext's letter $c$ to the position of the accompanying keyword's letter position $b$ and mod out the answer by the size of the alphabet $p$. This gives us the equation for the ciphertext's letter $d$ where $d = c+b$ $mod{p}$ So, for example, encrypting the first letter of the plaintext would be done by performing $4+10$ $mod$ $26$, leaving us with $14$. For decryption, we would perform the same process on the ciphertext.</p>\n",
    "<p>The Beaufort cipher works almost exactly like the Vignere cipher, only we subtract the key character's position from the plaintext character's position. Dr. Decrypto supposedly chose this cipher since <i>apparently</i> no one expect such a \"new\" and \"unknown\" cipher.</p>\n",
    "<p>To show Decrypto what's for, test your understanding of Beaufort by decrypting the value $VZHPZWHGOYCYWV$ with the key $TROUT$. You can test your answer py running the function following this markdown block.</p>"
   ]
  },
  {
   "cell_type": "code",
   "execution_count": 178,
   "id": "876f949a-298d-466f-9eaa-543983eb5e1d",
   "metadata": {},
   "outputs": [],
   "source": [
    "parameters.check_beaufort_decypher('FOLLOWTHECLUES')"
   ]
  },
  {
   "cell_type": "markdown",
   "id": "3274527e-07a7-450f-af66-c577dc0a3ce7",
   "metadata": {
    "tags": []
   },
   "source": [
    "<h3>The Kasiski Test</h3>\n",
    "<p>So now we know how to encrypt and decrypt with the Beaufort cipher, but there's just one problem: we have no idea what the encryption key is! The key could be anything and unlike the Alberti cipher, we cannot brute force our way to an answer since we know absolutely nothing about the key. Frequency analysis won't give us anything useful either since multiple letters can map to the same encryption value (go ahead, check yourself). Thankfully, there are ways to still crack this cipher using the Kasiski test.</p>\n",
    "<p>The Kasiski test works using the following assumptions:</p>\n",
    "<ul>\n",
    "    <li>When a string of characters repeatedly appears in a ciphertext, assume that the distance between the occurences of the string is a multiple of the key length.</li>\n",
    "    <li>Not every repeating pattern is indicative of a key's length, but the more times the pattern repeats, the less likely the pattern repetition has occurred by mere chance.</li>\n",
    "    <li>The most likely key length is the greatest common divisor of all the distances between common repeating strings, but it is possible that the key length could be any of the common factors of all the distances.</li>\n",
    "</ul>\n",
    "\n",
    "Using the Kasiski test, we could find the length of the encryption key used in the Beaufort cipher. Using this length, we could create frequency tables for each index of the key and use this to find what the likely letter values are of the key so we can decrypt a ciphertext"
   ]
  },
  {
   "cell_type": "markdown",
   "id": "6150d76f-c684-4c60-b011-33fe82df638f",
   "metadata": {
    "tags": []
   },
   "source": [
    "<h1>Crack the cipher!</h1>\n",
    "<p>You now know everything you need to know to crack this cipher. Get to it! Compartmentalize the procedure we discussed and write functions for each step! Remember, our data is encoded at the byte-level, so there are 256 members of our alphabet. Use this fact when finding your key and decrypting the text and video. Call the save_video function with your decrypted video so that it can become playable when you think you have cracked the code. Good luck!</p>"
   ]
  },
  {
   "cell_type": "markdown",
   "id": "fccba1f0-325c-4224-99dc-de904e6a478c",
   "metadata": {},
   "source": [
    "<h3>Sample cipher crack procedure</h3>"
   ]
  },
  {
   "cell_type": "code",
   "execution_count": 123,
   "id": "7bdd688f-a14c-48b9-84e0-1a31e6d022d0",
   "metadata": {},
   "outputs": [],
   "source": [
    "video = encrypted_video\n",
    "text = encrypted_text"
   ]
  },
  {
   "cell_type": "code",
   "execution_count": 124,
   "id": "4b3a1235-946c-4838-abc4-a1481d4b031e",
   "metadata": {},
   "outputs": [
    {
     "data": {
      "text/plain": [
       "[(220, 21),\n",
       " (221, 21),\n",
       " (222, 20),\n",
       " (216, 18),\n",
       " (218, 16),\n",
       " (217, 15),\n",
       " (224, 15),\n",
       " (227, 14),\n",
       " (207, 14),\n",
       " (231, 13),\n",
       " (230, 13),\n",
       " (234, 12),\n",
       " (213, 11),\n",
       " (226, 11),\n",
       " (205, 11),\n",
       " (211, 11),\n",
       " (215, 10),\n",
       " (212, 9),\n",
       " (219, 8),\n",
       " (210, 8),\n",
       " (223, 8),\n",
       " (235, 8),\n",
       " (204, 7),\n",
       " (206, 7),\n",
       " (228, 7),\n",
       " (232, 5),\n",
       " (214, 5),\n",
       " (251, 4),\n",
       " (238, 4),\n",
       " (209, 4),\n",
       " (225, 4),\n",
       " (233, 4),\n",
       " (202, 3),\n",
       " (208, 2),\n",
       " (252, 2),\n",
       " (7, 2),\n",
       " (2, 2),\n",
       " (30, 1),\n",
       " (23, 1),\n",
       " (3, 1),\n",
       " (203, 1),\n",
       " (31, 1),\n",
       " (253, 1),\n",
       " (9, 1),\n",
       " (21, 1),\n",
       " (10, 1),\n",
       " (236, 1),\n",
       " (200, 1)]"
      ]
     },
     "execution_count": 124,
     "metadata": {},
     "output_type": "execute_result"
    }
   ],
   "source": [
    "frequency_analysis_dict(encrypted_text)"
   ]
  },
  {
   "cell_type": "markdown",
   "id": "835c07b8-bcf8-4e2a-96a8-8610993cce98",
   "metadata": {},
   "source": [
    "<h3>Sample Cipher Crack Procedure: </h3>"
   ]
  },
  {
   "cell_type": "code",
   "execution_count": 125,
   "id": "1ba53608-a696-463d-900f-05c34f72df11",
   "metadata": {},
   "outputs": [],
   "source": [
    "# we will make use of the kasiski test to find out what the key used for the beaufort cypher is. "
   ]
  },
  {
   "cell_type": "code",
   "execution_count": 126,
   "id": "c9944bd5-d34b-425d-bc2c-f15cc258abcd",
   "metadata": {},
   "outputs": [],
   "source": [
    "#First, we need to find the common n-grams (i.e common number sequences in the byte list\n",
    "def filter_common_ngrams(pair):\n",
    "    if pair[1][0] >1:\n",
    "        return True\n",
    "    return False\n",
    "\n",
    "def n_grams(data, size):\n",
    "    ngram_dict = dict()\n",
    "    # start index at 0, continune until we go through all the words\n",
    "    i = 0\n",
    "    while i<len(data):\n",
    "        cur_n_gram = data[i:i+size]\n",
    "        if(len(cur_n_gram) == size):\n",
    "            if str(cur_n_gram) in ngram_dict:\n",
    "                ngram_dict[str(cur_n_gram)][1].append(i)\n",
    "                ngram_dict[str(cur_n_gram)] = (ngram_dict[str(cur_n_gram)][0]+1,ngram_dict[str(cur_n_gram)][1])\n",
    "            else:\n",
    "                new_list = list()\n",
    "                new_list.append(i)\n",
    "                ngram_dict[str(cur_n_gram)] = (1, new_list)\n",
    "        i = i+size\n",
    "    return dict(filter(filter_common_ngrams, ngram_dict.items()))"
   ]
  },
  {
   "cell_type": "code",
   "execution_count": 127,
   "id": "191474cb-6a88-4270-a7b8-1d3f954f1aad",
   "metadata": {},
   "outputs": [],
   "source": [
    "#Gather a list of common ngrams\n",
    "cur_ngram_length = 3\n",
    "no_ngram_amt = 0\n",
    "common_ngrams = list()\n",
    "while no_ngram_amt < 5:\n",
    "    cur_ngram=n_grams(text, cur_ngram_length)\n",
    "    if len(cur_ngram.keys())==0:\n",
    "        no_ngram_amt=no_ngram_amt+1\n",
    "        cur_ngram_length=cur_ngram_length+1\n",
    "        continue\n",
    "    if no_ngram_amt!=0 and len(cur_ngram.keys())!=0:\n",
    "        no_ngram_amt=0\n",
    "    common_ngrams.append(cur_ngram)\n",
    "    cur_ngram_length=cur_ngram_length+1"
   ]
  },
  {
   "cell_type": "code",
   "execution_count": 128,
   "id": "3a0ae299-4fb7-4af7-9202-7f357764f4da",
   "metadata": {},
   "outputs": [],
   "source": [
    "def beaufort_decypher(data, key):\n",
    "    # Since we are working with bytes, do subtraction modulo 256 for the key and data to be encoded\n",
    "    value = list()\n",
    "    cur_key_pos = 0\n",
    "    for byte in data:\n",
    "        value.append(int(mod(key[cur_key_pos]-byte, 256)))\n",
    "        if(cur_key_pos == len(key)-1):\n",
    "            cur_key_pos=0\n",
    "        else:\n",
    "            cur_key_pos=cur_key_pos+1\n",
    "    return value"
   ]
  },
  {
   "cell_type": "code",
   "execution_count": 129,
   "id": "916718df-ca90-460e-acde-d743c07934f9",
   "metadata": {},
   "outputs": [
    {
     "data": {
      "text/plain": [
       "[{'[202, 221, 218]': (2, [150, 165]),\n",
       "  '[222, 224, 207]': (2, [156, 231]),\n",
       "  '[204, 217, 211]': (2, [258, 333])},\n",
       " {'[205, 227, 226, 216]': (2, [28, 128])}]"
      ]
     },
     "execution_count": 129,
     "metadata": {},
     "output_type": "execute_result"
    }
   ],
   "source": [
    "#list of all common ngrams, the key is a string representation of the ngram and the value is a set where the first item is the number of times the ngram occurs and the second item indicated the starting indices of the ngram in the string\n",
    "common_ngrams"
   ]
  },
  {
   "cell_type": "code",
   "execution_count": 130,
   "id": "7a62cfc4-fc96-421c-9f32-3c3b47c26775",
   "metadata": {},
   "outputs": [],
   "source": [
    "# finds the GCD of a set of numbers\n",
    "def gcd_set(nums):\n",
    "    print(nums)\n",
    "    if len(nums) == 2:\n",
    "        return gcd(nums[0], nums[1])\n",
    "    else:\n",
    "        return gcd(nums[0], gcd_set(nums[1:len(nums)]))"
   ]
  },
  {
   "cell_type": "code",
   "execution_count": 131,
   "id": "12c57e48-23c9-4899-9e9e-202f3664af31",
   "metadata": {},
   "outputs": [
    {
     "name": "stdout",
     "output_type": "stream",
     "text": [
      "[100, 75, 75, 15]\n",
      "[75, 75, 15]\n",
      "[75, 15]\n"
     ]
    }
   ],
   "source": [
    "key_length = int(gcd_set([128-28,333-258,231-156,165-150]))"
   ]
  },
  {
   "cell_type": "code",
   "execution_count": 132,
   "id": "6e72834d-346a-4ffd-b935-b7eb788ff5a8",
   "metadata": {},
   "outputs": [
    {
     "data": {
      "text/plain": [
       "5"
      ]
     },
     "execution_count": 132,
     "metadata": {},
     "output_type": "execute_result"
    }
   ],
   "source": [
    "key_length"
   ]
  },
  {
   "cell_type": "code",
   "execution_count": 133,
   "id": "2df27928-34db-470f-b192-dc1c4a477a9e",
   "metadata": {},
   "outputs": [],
   "source": [
    "# make a dictionary where the key is the letter position in the keyword and the value is the current byte value at that position\n",
    "key_letter_positions = dict()\n",
    "cur_pos=0\n",
    "for character in text:\n",
    "    if cur_pos not in key_letter_positions:\n",
    "        new_list = list()\n",
    "        new_list.append(character)\n",
    "        key_letter_positions[cur_pos] = new_list\n",
    "    else:\n",
    "        key_letter_positions[cur_pos].append(character)\n",
    "    if cur_pos == key_length-1:\n",
    "        cur_pos=0\n",
    "    else:\n",
    "        cur_pos=cur_pos+1"
   ]
  },
  {
   "cell_type": "code",
   "execution_count": 162,
   "id": "634ca40c-d04c-4390-ab01-276a4fb3c591",
   "metadata": {},
   "outputs": [
    {
     "name": "stdout",
     "output_type": "stream",
     "text": [
      "Possible values for position  0 :\n",
      "[222]\n",
      "C\n",
      "[207]\n",
      "4\n",
      "[218]\n",
      "?\n",
      "[213]\n",
      ":\n",
      "[209]\n",
      "6\n",
      "\n",
      "\n",
      "\n",
      "Possible values for position  1 :\n",
      "[231]\n",
      "L\n",
      "[221]\n",
      "B\n",
      "[216]\n",
      "=\n",
      "[217]\n",
      ">\n",
      "[222]\n",
      "C\n",
      "\n",
      "\n",
      "\n",
      "Possible values for position  2 :\n",
      "[234]\n",
      "O\n",
      "[224]\n",
      "E\n",
      "[219]\n",
      "@\n",
      "[218]\n",
      "?\n",
      "[221]\n",
      "B\n",
      "\n",
      "\n",
      "\n",
      "Possible values for position  3 :\n",
      "[220]\n",
      "A\n",
      "[205]\n",
      "2\n",
      "[210]\n",
      "7\n",
      "[207]\n",
      "4\n",
      "[211]\n",
      "8\n",
      "\n",
      "\n",
      "\n",
      "Possible values for position  4 :\n",
      "[215]\n",
      "<\n",
      "[230]\n",
      "K\n",
      "[216]\n",
      "=\n",
      "[227]\n",
      "H\n",
      "[220]\n",
      "A\n",
      "\n",
      "\n",
      "\n"
     ]
    },
    {
     "data": {
      "image/png": "[encoded data removed]",
      "text/plain": [
       "<Figure size 1800x288 with 5 Axes>"
      ]
     },
     "metadata": {
      "needs_background": "light"
     },
     "output_type": "display_data"
    }
   ],
   "source": [
    "#make a chart for each position in the possible key\n",
    "%matplotlib inline\n",
    "ys = list()\n",
    "xs = list()\n",
    "for i in range(0, key_length):\n",
    "    cur_table = frequency_analysis_dict(list(key_letter_positions.values())[i])\n",
    "    print('Possible values for position ',i,':')\n",
    "    y_ax = [y[1] for y in cur_table]\n",
    "    x_ax = [x[0] for x in cur_table]\n",
    "    for i in range(0,5):\n",
    "        print(([int(mod(cur_table[i][0], 256))]))\n",
    "        print(str(bytes([int(mod(cur_table[i][0]+101, 256))]), 'utf-8'))\n",
    "    xs.append(x_ax)\n",
    "    ys.append(y_ax)\n",
    "    print('\\n\\n')\n",
    "    \n",
    "fig, axs = plt.subplots(ncols=key_length, figsize=(25, 4))\n",
    "for i in range(0, key_length):\n",
    "    pd.Series(ys[i], index=xs[i]).plot(kind='bar', ax=axs[i])\n",
    "    axs[i].set_title('Key Letter Position {}'.format(i))"
   ]
  },
  {
   "cell_type": "code",
   "execution_count": 146,
   "id": "dd4e9f1a-5d2a-4d7e-b613-878a8ad96c9a",
   "metadata": {},
   "outputs": [],
   "source": [
    "key=list(bytes('CLOAK', 'utf-8'))"
   ]
  },
  {
   "cell_type": "code",
   "execution_count": 147,
   "id": "91258188-e970-437f-8f57-d9b415ab8478",
   "metadata": {},
   "outputs": [
    {
     "data": {
      "text/plain": [
       "'Helloleaderthisistoinformyouthatourenemieshavedeclaredthattheyarenevergonnagiveuptrackingyoudown.Thisisunfortunatebutrestassuredthatwearenevergonnaletyoudownordesertyouinthismoment,Itisimperitivethatwecometogetheronafullcommitmentinordertoensurethesuccessofourplan,whichisREDACTED.BTWIwillsendthismessageovertotheagencytryingtofoilyourplotjusttomesswiththemlol'"
      ]
     },
     "execution_count": 147,
     "metadata": {},
     "output_type": "execute_result"
    }
   ],
   "source": [
    "#check if key works\n",
    "str(bytes(beaufort_decypher(text, key)),'utf-8')"
   ]
  },
  {
   "cell_type": "markdown",
   "id": "916df6c0-e7d2-4fec-aa83-dd70cc9273dd",
   "metadata": {},
   "source": [
    "<h1>Test your decrypted video here!</h1>"
   ]
  },
  {
   "cell_type": "code",
   "execution_count": 148,
   "id": "803fef90-6289-4b59-bf82-4d7b72826f29",
   "metadata": {},
   "outputs": [],
   "source": [
    "save_video(beaufort_decypher(video, key))"
   ]
  },
  {
   "cell_type": "code",
   "execution_count": 150,
   "id": "0225d845-cc50-46f8-a857-fac8d4ed450c",
   "metadata": {},
   "outputs": [
    {
     "data": {
      "text/html": [
       "\n",
       "    <video alt=\"Video1\" controls>\n",
       "        <source src=\"unencryptedVideo2.mp4\" type=\"video/mp4\">\n",
       "    </video>\n"
      ],
      "text/plain": [
       "<IPython.core.display.HTML object>"
      ]
     },
     "execution_count": 150,
     "metadata": {},
     "output_type": "execute_result"
    }
   ],
   "source": [
    "HTML(\"\"\"\n",
    "    <video alt=\"Video1\" controls>\n",
    "        <source src=\"unencryptedVideo2.mp4\" type=\"video/mp4\">\n",
    "    </video>\n",
    "\"\"\")"
   ]
  }
 ],
 "metadata": {
  "kernelspec": {
   "display_name": "SageMath 9.5",
   "language": "sage",
   "name": "sagemath"
  },
  "language_info": {
   "codemirror_mode": {
    "name": "ipython",
    "version": 3
   },
   "file_extension": ".py",
   "mimetype": "text/x-python",
   "name": "python",
   "nbconvert_exporter": "python",
   "pygments_lexer": "ipython3",
   "version": "3.10.6"
  }
 },
 "nbformat": 4,
 "nbformat_minor": 5
}
