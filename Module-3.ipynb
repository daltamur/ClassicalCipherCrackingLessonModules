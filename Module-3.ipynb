{
 "cells": [
  {
   "cell_type": "code",
   "execution_count": 11,
   "id": "d557755a-27a1-485a-95f5-c9da7409eb2c",
   "metadata": {},
   "outputs": [],
   "source": [
    "import sys\n",
    "import os\n",
    "import numpy as np\n",
    "from IPython.display import HTML\n",
    "from GetEncryptedData import getModuleData\n",
    "from importlib import reload\n",
    "from InstructorFiles.Functions.Parameters import parameters"
   ]
  },
  {
   "cell_type": "markdown",
   "id": "750d8c5f-6071-4002-844e-93d2fd96ca40",
   "metadata": {},
   "source": [
    "<h1>INITIAL DATA! DO NOT OVERWRITE! Make copies of them to work with.</h1>"
   ]
  },
  {
   "cell_type": "code",
   "execution_count": 2,
   "id": "41a944ca-3823-4716-8e72-9cb8ff4d9f46",
   "metadata": {},
   "outputs": [],
   "source": [
    "encrypted_video = None\n",
    "encrypted_text = None\n",
    "def save_video(video_data):\n",
    "    with open('unencryptedVideo3.mp4', 'wb') as videoFile:\n",
    "        encrypted_video = videoFile.write(bytes(video_data))\n",
    "        videoFile.close()\n",
    "with open('InstructorFiles/Functions/Videos/encryptedVideos/encryptedVideo3.mp4', 'rb') as videoFile:\n",
    "    encrypted_video = list(videoFile.read())\n",
    "\n",
    "with open('InstructorFiles/Functions/Texts/text3Encrypted.txt', 'rb') as textData:\n",
    "    encrypted_text = list(textData.read())"
   ]
  },
  {
   "cell_type": "code",
   "execution_count": 265,
   "id": "d2e7666b-aacb-4a4d-af61-c22f512c44f4",
   "metadata": {},
   "outputs": [
    {
     "data": {
      "text/html": [
       "\n",
       "    <video alt=\"Video3\" controls>\n",
       "        <source src=\"InstructorFiles/Functions/Videos/encryptedVideos/encryptedVideo3.mp4\" type=\"video/mp4\">\n",
       "    </video>\n"
      ],
      "text/plain": [
       "<IPython.core.display.HTML object>"
      ]
     },
     "execution_count": 265,
     "metadata": {},
     "output_type": "execute_result"
    }
   ],
   "source": [
    "#Initial video. Go ahead and test it, you'lll find the encryption has left it unplayable...\n",
    "HTML(\"\"\"\n",
    "    <video alt=\"Video3\" controls>\n",
    "        <source src=\"InstructorFiles/Functions/Videos/encryptedVideos/encryptedVideo3.mp4\" type=\"video/mp4\">\n",
    "    </video>\n",
    "\"\"\")"
   ]
  },
  {
   "cell_type": "markdown",
   "id": "93de7594-6035-4e06-b7fc-8efacec4e554",
   "metadata": {
    "tags": []
   },
   "source": [
    "<h1>Lesson 3: Transparently Transposed</h1>\n",
    "\n",
    "<p>You're on the cusp of finding out Decrypto's evil plan. He found out you solved his last two ciphers and sent one last video, thinking that we'll never be able to decipher it! However, one of his cronies accidentally sent us a message for Decrypto that we have reason to believe was encrypted with the same method and key as the video, this time we have reason to believe it was encrypted with a <i>columnar transposition cipher</i>.</p>"
   ]
  },
  {
   "cell_type": "markdown",
   "id": "9f652a11-2801-4e73-b5d8-47fbea6c466a",
   "metadata": {},
   "source": [
    "<h1>The Colunmar Transposition Cipher Explained</h1>"
   ]
  },
  {
   "cell_type": "markdown",
   "id": "e4e17b3a-db5b-46dd-84ef-8bee9ea224a1",
   "metadata": {},
   "source": [
    "<p>The columnar transposition ciper uses a <i>matrix</i> in order to encrypt and decrypt a message. A columnar transposition cipher doesn't change the letters of a message, but rather, rearranges them. This again makes something like frequency analysis useless since nothing is because nothing is being substituted, only rearranged.</p>\n",
    "\n",
    "<p>The steps for encrypting a message witha columnar transposition cipher are the following:</p>\n",
    "<ul>\n",
    "    <li>First, choose some keyword value. We'll choose <i>ENCOD</i> to encrypt our message <i>MODULETHREE</i></li>\n",
    "    <li>Next, we need to put the letters of the message in a column that has a row length equal to the length of the key. If we don't have enough letters to fill up a matrix, we will pad the last row with a placeholder value. In this example, we'll use X. The matrix would look like\n",
    "    <br>ENCOD\n",
    "    <br>    \n",
    "    <br>MODUL    \n",
    "    <br>ETHRE\n",
    "    <br>EXXXX    \n",
    "    <br>\n",
    "    <br>Notice how each column corresponds with a letter in the key    \n",
    "    </li>\n",
    "    <li>We now rearrange the columns based on the alphabetical order of the key like so\n",
    "    <br>CDENO\n",
    "    <br>    \n",
    "    <br>DLMOU    \n",
    "    <br>HEETR\n",
    "    <br>XXEXX \n",
    "    </li>\n",
    "    <li>The encrypted message is the value of each column concatenated, giving us DHXLEXMEEOTXURX</li>\n",
    "</ul>\n",
    "\n",
    "<p>Decryption itself is relatively easy. All you need to do is arrange the key in alphabetical order and then rearrange the matrix in the second step of the encryption process. Then you just need to rearrange the columns back into the order of the original ciphertext and concatenate the rows of the matrix to get the original matrix while being sure to get rid of any padding.</p>\n",
    "\n",
    "<p>To be sure you understand the procedure, decrypt the message ESXLUXEGAHNUEGAEMXTIT with the key ROSEBUD while getting rid of any padding.</p>"
   ]
  },
  {
   "cell_type": "code",
   "execution_count": 12,
   "id": "ab9e5b08-1dde-489e-8608-c4ac0ee33c01",
   "metadata": {},
   "outputs": [
    {
     "name": "stdout",
     "output_type": "stream",
     "text": [
      "THEFEELINGISMUTUAL\n"
     ]
    }
   ],
   "source": [
    "parameters.check_transposition_decypher('THEFEELINGISMUTUAL')"
   ]
  },
  {
   "cell_type": "markdown",
   "id": "d86dd6cc-d91f-472c-8dd2-88e5daadff28",
   "metadata": {},
   "source": [
    "Now that we know how the cipher works, it's time to crack it! Some things to note:\n",
    "<ul>\n",
    "    <li>Since the message has to fill up a matrix, what do we know about the key length? What is it's relation to the cyphertext?</li>\n",
    "    <li>With bytes, we can't just put an 'X' as padding, but perhaps they used some other value as padding that doesn't get used in text very often...</li>\n",
    "    <li>It is true that we do not know the alphabetical order of the key, but perhaps we can find it byt rearranging the columns to make up common N-grams in order to find the order of the columns used to encrypt the text</li>\n",
    "    <li>In cryptology, a <i>crib</i> is a part of the original plain text that a codecracker knows in order to help them solve a cipher. Are there any cribs we know that we can use to rearrange the columns properly?</li>\n",
    "    <li>It's easy to just decide to brute force the solution, but you may not be able to efficiently do this. Think smarter using the hints you have been provided!</li>\n",
    "<ul>    "
   ]
  },
  {
   "cell_type": "markdown",
   "id": "0a727b23-2a04-4b40-bd67-b95bd78b2f96",
   "metadata": {},
   "source": [
    "<h1>Now go, crack the code and save the world!</h1>"
   ]
  },
  {
   "cell_type": "markdown",
   "id": "3c93b59f-92ae-4712-8f06-fc1db522fa97",
   "metadata": {},
   "source": [
    "<h2>Example solution</h1>"
   ]
  },
  {
   "cell_type": "markdown",
   "id": "85f54bbf-54ff-4896-821e-4ecc3dfbca1e",
   "metadata": {
    "tags": []
   },
   "source": [
    "<h1>1.) First find the factors of the text. As provided previously, we already know that the matrix used is complete (though there may be some padding in the final row)</h1>"
   ]
  },
  {
   "cell_type": "code",
   "execution_count": 18,
   "id": "66ff0d63-5aac-4573-a58c-ff4491adc286",
   "metadata": {},
   "outputs": [
    {
     "data": {
      "text/plain": [
       "2 * 3^2 * 13"
      ]
     },
     "execution_count": 18,
     "metadata": {},
     "output_type": "execute_result"
    }
   ],
   "source": [
    "#Any of these factors can be the key length\n",
    "factor(len(encrypted_text))"
   ]
  },
  {
   "cell_type": "code",
   "execution_count": 20,
   "id": "2f2ee6a9-d3f5-4ee7-ae45-f9b13f95a4b1",
   "metadata": {},
   "outputs": [],
   "source": [
    "#^key length could be any of these values since I already know it's 9 the rest of this will use 9 as the value, but 13 is the only other plausible value since doing it with a key\n",
    "#length of two wouldn't be very effective"
   ]
  },
  {
   "cell_type": "markdown",
   "id": "265fc1de-9960-466e-8f76-caa279ffd9de",
   "metadata": {
    "tags": []
   },
   "source": [
    "<h1>2.) Find a way to print the transposition matrix of the data so that we can actually read it to analyze the data</h1>"
   ]
  },
  {
   "cell_type": "code",
   "execution_count": 117,
   "id": "c60e16d4-d047-44c1-a234-0ce0a7bbe297",
   "metadata": {},
   "outputs": [],
   "source": [
    "def map_columns(data, key_length):\n",
    "    column_length = len(data)/key_length\n",
    "    columns = list()\n",
    "    cur_index = 0\n",
    "    for i in range(0, key_length):\n",
    "        columns.append((i, data[cur_index:cur_index+column_length]))\n",
    "        cur_index=cur_index+column_length\n",
    "    return columns"
   ]
  },
  {
   "cell_type": "code",
   "execution_count": 166,
   "id": "f8a0f21d-b075-4ac8-a33a-1d8d858e54b7",
   "metadata": {},
   "outputs": [],
   "source": [
    "def print_transpo_matrix(data, key_length, column_length):\n",
    "    header=''\n",
    "    for i in range(0, len(data)):\n",
    "        header = header+str(data[i][0])+' '\n",
    "    print(header+'\\n')\n",
    "    i=0\n",
    "    for i in range(i, column_length):\n",
    "        cur_row = ''\n",
    "        for j in range(0, len(data)):\n",
    "            if(data[j][1][i]==0):\n",
    "                cur_row = cur_row+'X'+' '\n",
    "                continue\n",
    "            cur_row = cur_row+chr(data[j][1][i])+' '\n",
    "        print(cur_row)"
   ]
  },
  {
   "cell_type": "code",
   "execution_count": 167,
   "id": "a26be0d5-d63c-4711-9838-e2cfae8bda1f",
   "metadata": {},
   "outputs": [],
   "source": [
    "cols = map_columns(encrypted_text,9)"
   ]
  },
  {
   "cell_type": "code",
   "execution_count": 168,
   "id": "b6b86d99-3218-4c39-bf0b-382702a50674",
   "metadata": {},
   "outputs": [
    {
     "name": "stdout",
     "output_type": "stream",
     "text": [
      "0 1 2 3 4 5 6 7 8 \n",
      "\n",
      "H e h m e s r t e \n",
      "e s I l l g s e a \n",
      "e n t n a y c p r \n",
      "d s o h t d e t n \n",
      "e c s t i s o i p \n",
      "g o d y b a o n d \n",
      "t h t e h a e y w \n",
      "k e n I d h y a O \n",
      "j u a i l r s e t \n",
      "z e v r e n d e I \n",
      "g r d o y t e e e \n",
      "u s l D o e o l H \n",
      "o c o t n r t D o \n",
      "t e y u o m l e l \n",
      "r e l n i o t b o \n",
      "d t t e h e o e s \n",
      "a n L s i e s r w \n",
      "t e n w o e n k w \n",
      "t h m a e g i a s \n",
      "n d g n o r w e e \n",
      "n a i T t a p y l \n",
      "h i l e b i s l w \n",
      "t h t i T a e s l \n",
      "m e l o y e I l t \n",
      "u h m e f I o a w \n",
      "e l X X X g i X n \n"
     ]
    }
   ],
   "source": [
    "print_transpo_matrix(cols, 9, 26)"
   ]
  },
  {
   "cell_type": "markdown",
   "id": "9291db91-c21f-4d96-be2d-b7296c328e1e",
   "metadata": {
    "tags": []
   },
   "source": [
    "<h1>3.) Now that you have a way to print the matrix, make some function so that you can swap columns of the matrix as you try to find ways to make common words.</h1>"
   ]
  },
  {
   "cell_type": "code",
   "execution_count": 181,
   "id": "5ef97e7a-ea19-40b5-947e-060c6fc9dfd6",
   "metadata": {},
   "outputs": [],
   "source": [
    "def swap_cols(pos1, pos2, data):\n",
    "    data[pos1], data[pos2] = data[pos2], data[pos1]\n",
    "    return data"
   ]
  },
  {
   "cell_type": "markdown",
   "id": "c0656e13-9cfa-4570-b839-e7664ebc87e3",
   "metadata": {
    "tags": []
   },
   "source": [
    "<h1>4.) Now rearrange the columns to make N-grams that make sense. There will be some common ones obviously (the, and, est, etc.) but maybe each message has a common word that you can use to arrange the columns...</h1>"
   ]
  },
  {
   "cell_type": "code",
   "execution_count": 179,
   "id": "f8bc5fde-2622-445a-8f3f-55912ad6fdb4",
   "metadata": {},
   "outputs": [
    {
     "name": "stdout",
     "output_type": "stream",
     "text": [
      "0 1 2 3 4 5 6 7 8 \n",
      "\n",
      "H e h m e s r t e \n",
      "e s I l l g s e a \n",
      "e n t n a y c p r \n",
      "d s o h t d e t n \n",
      "e c s t i s o i p \n",
      "g o d y b a o n d \n",
      "t h t e h a e y w \n",
      "k e n I d h y a O \n",
      "j u a i l r s e t \n",
      "z e v r e n d e I \n",
      "g r d o y t e e e \n",
      "u s l D o e o l H \n",
      "o c o t n r t D o \n",
      "t e y u o m l e l \n",
      "r e l n i o t b o \n",
      "d t t e h e o e s \n",
      "a n L s i e s r w \n",
      "t e n w o e n k w \n",
      "t h m a e g i a s \n",
      "n d g n o r w e e \n",
      "n a i T t a p y l \n",
      "h i l e b i s l w \n",
      "t h t i T a e s l \n",
      "m e l o y e I l t \n",
      "u h m e f I o a w \n",
      "e l X X X g i X n \n"
     ]
    }
   ],
   "source": [
    "cols = swap_cols(0,1,cols)\n",
    "print_transpo_matrix(cols, 9, 26)"
   ]
  },
  {
   "cell_type": "code",
   "execution_count": 180,
   "id": "f5a46078-9f88-407f-a42e-773dda99006a",
   "metadata": {},
   "outputs": [
    {
     "name": "stdout",
     "output_type": "stream",
     "text": [
      "0 1 2 8 4 5 6 7 3 \n",
      "\n",
      "H e h e e s r t m \n",
      "e s I a l g s e l \n",
      "e n t r a y c p n \n",
      "d s o n t d e t h \n",
      "e c s p i s o i t \n",
      "g o d d b a o n y \n",
      "t h t w h a e y e \n",
      "k e n O d h y a I \n",
      "j u a t l r s e i \n",
      "z e v I e n d e r \n",
      "g r d e y t e e o \n",
      "u s l H o e o l D \n",
      "o c o o n r t D t \n",
      "t e y l o m l e u \n",
      "r e l o i o t b n \n",
      "d t t s h e o e e \n",
      "a n L w i e s r s \n",
      "t e n w o e n k w \n",
      "t h m s e g i a a \n",
      "n d g e o r w e n \n",
      "n a i l t a p y T \n",
      "h i l w b i s l e \n",
      "t h t l T a e s i \n",
      "m e l t y e I l o \n",
      "u h m w f I o a e \n",
      "e l X n X g i X X \n"
     ]
    }
   ],
   "source": [
    "cols = swap_cols(3,8,cols)\n",
    "print_transpo_matrix(cols, 9, 26)"
   ]
  },
  {
   "cell_type": "code",
   "execution_count": 185,
   "id": "c8fdf0af-2782-4526-9937-f12fa7e59418",
   "metadata": {},
   "outputs": [
    {
     "name": "stdout",
     "output_type": "stream",
     "text": [
      "0 1 6 8 4 5 2 7 3 \n",
      "\n",
      "H e r e e s h t m \n",
      "e s s a l g I e l \n",
      "e n c r a y t p n \n",
      "d s e n t d o t h \n",
      "e c o p i s s i t \n",
      "g o o d b a d n y \n",
      "t h e w h a t y e \n",
      "k e y O d h n a I \n",
      "j u s t l r a e i \n",
      "z e d I e n v e r \n",
      "g r e e y t d e o \n",
      "u s o H o e l l D \n",
      "o c t o n r o D t \n",
      "t e l l o m y e u \n",
      "r e t o i o l b n \n",
      "d t o s h e t e e \n",
      "a n s w i e L r s \n",
      "t e n w o e n k w \n",
      "t h i s e g m a a \n",
      "n d w e o r g e n \n",
      "n a p l t a i y T \n",
      "h i s w b i l l e \n",
      "t h e l T a t s i \n",
      "m e I t y e l l o \n",
      "u h o w f I m a e \n",
      "e l i n X g X X X \n"
     ]
    }
   ],
   "source": [
    "cols = swap_cols(2,6,cols)\n",
    "print_transpo_matrix(cols, 9, 26)"
   ]
  },
  {
   "cell_type": "code",
   "execution_count": 186,
   "id": "625113ed-d402-4537-895a-4001e4fc32f3",
   "metadata": {},
   "outputs": [
    {
     "name": "stdout",
     "output_type": "stream",
     "text": [
      "0 1 6 8 5 4 2 7 3 \n",
      "\n",
      "H e r e s e h t m \n",
      "e s s a g l I e l \n",
      "e n c r y a t p n \n",
      "d s e n d t o t h \n",
      "e c o p s i s i t \n",
      "g o o d a b d n y \n",
      "t h e w a h t y e \n",
      "k e y O h d n a I \n",
      "j u s t r l a e i \n",
      "z e d I n e v e r \n",
      "g r e e t y d e o \n",
      "u s o H e o l l D \n",
      "o c t o r n o D t \n",
      "t e l l m o y e u \n",
      "r e t o o i l b n \n",
      "d t o s e h t e e \n",
      "a n s w e i L r s \n",
      "t e n w e o n k w \n",
      "t h i s g e m a a \n",
      "n d w e r o g e n \n",
      "n a p l a t i y T \n",
      "h i s w i b l l e \n",
      "t h e l a T t s i \n",
      "m e I t e y l l o \n",
      "u h o w I f m a e \n",
      "e l i n g X X X X \n"
     ]
    }
   ],
   "source": [
    "cols = swap_cols(4,5,cols)\n",
    "print_transpo_matrix(cols, 9, 26)"
   ]
  },
  {
   "cell_type": "code",
   "execution_count": 187,
   "id": "76c4a6cb-7b41-43bb-9fc5-f669f9102bf0",
   "metadata": {},
   "outputs": [
    {
     "name": "stdout",
     "output_type": "stream",
     "text": [
      "0 1 6 8 5 7 2 4 3 \n",
      "\n",
      "H e r e s t h e m \n",
      "e s s a g e I l l \n",
      "e n c r y p t a n \n",
      "d s e n d t o t h \n",
      "e c o p s i s i t \n",
      "g o o d a n d b y \n",
      "t h e w a y t h e \n",
      "k e y O h a n d I \n",
      "j u s t r e a l i \n",
      "z e d I n e v e r \n",
      "g r e e t e d y o \n",
      "u s o H e l l o D \n",
      "o c t o r D o n t \n",
      "t e l l m e y o u \n",
      "r e t o o b l i n \n",
      "d t o s e e t h e \n",
      "a n s w e r L i s \n",
      "t e n w e k n o w \n",
      "t h i s g a m e a \n",
      "n d w e r e g o n \n",
      "n a p l a y i t T \n",
      "h i s w i l l b e \n",
      "t h e l a s t T i \n",
      "m e I t e l l y o \n",
      "u h o w I a m f e \n",
      "e l i n g X X X X \n"
     ]
    }
   ],
   "source": [
    "cols = swap_cols(5,7,cols)\n",
    "print_transpo_matrix(cols, 9, 26)"
   ]
  },
  {
   "cell_type": "markdown",
   "id": "f127f244-f29f-4766-bdf4-54a3f41bf502",
   "metadata": {
    "tags": []
   },
   "source": [
    "<h1>5.) Found the right order of the columns? Great! Now make a decryption function using the column ordering you found.</h1>"
   ]
  },
  {
   "cell_type": "code",
   "execution_count": 274,
   "id": "f85dd5c0-4072-48be-9b40-997f2edd9a35",
   "metadata": {},
   "outputs": [],
   "source": [
    "def decrypt(data, ordering, col_length):\n",
    "    #swap the columns first\n",
    "    reordered_cols = list()\n",
    "    for i in range(0, len(data)):\n",
    "        reordered_cols.append(data[ordering[i]])\n",
    "    #now that the matrix is reordered, append the rows to eachother\n",
    "    decrypted_message = list()\n",
    "    i=0\n",
    "    for i in range(0, col_length):\n",
    "        #append the row data\n",
    "        for j in range(0,len(data)):\n",
    "            decrypted_message.append(reordered_cols[j][1][i])\n",
    "    return decrypted_message"
   ]
  },
  {
   "cell_type": "code",
   "execution_count": 275,
   "id": "2afc4d06-2d8b-45ce-b42d-82b60553b659",
   "metadata": {},
   "outputs": [
    {
     "name": "stdout",
     "output_type": "stream",
     "text": [
      "HeresthemessageIllencryptandsendtothecopsisitgoodandbythewaythekeyOhandIjustrealizedInevergreetedyousoHelloDoctorDonttellmeyouretooblindtoseetheanswerListenweknowthisgameandweregonnaplayitThiswillbethelastTimeItellyouhowIamfeeling\n"
     ]
    }
   ],
   "source": [
    "decrypted_msg=decrypt(map_columns(encrypted_text,9), (0,1,6,8,5,7,2,4,3), 26)\n",
    "#print to make sure it actually works...\n",
    "print(str(bytes([ele for ele in decrypted_msg if ele > 0]), 'utf-8'))"
   ]
  },
  {
   "cell_type": "markdown",
   "id": "78c1cca6-1e5c-4a24-8b0c-b11c650e21ae",
   "metadata": {
    "tags": []
   },
   "source": [
    "<h1>6.) Now decrypt the video using your decryption method. Save it using the provided save video function.</h1>"
   ]
  },
  {
   "cell_type": "code",
   "execution_count": 278,
   "id": "ac2ca7d3-a55f-44e9-8f87-e8892310ec2f",
   "metadata": {},
   "outputs": [],
   "source": [
    "video_cols = map_columns(encrypted_video,9)\n",
    "decrypted_video=decrypt(video_cols, (0,1,6,8,5,7,2,4,3), len(encrypted_video)/9)"
   ]
  },
  {
   "cell_type": "code",
   "execution_count": 280,
   "id": "3d3e1bdb-5966-424a-8ca8-91b63a97519e",
   "metadata": {},
   "outputs": [],
   "source": [
    "save_video(decrypted_video)"
   ]
  },
  {
   "cell_type": "markdown",
   "id": "c14682bf-27ff-4549-a65c-a000aa62dd5a",
   "metadata": {
    "tags": []
   },
   "source": [
    "<h1>At long last, we have Decrypto's final video transmission. Play it to learn what his evil plot is to give to the intelligence agency!</h1>"
   ]
  },
  {
   "cell_type": "code",
   "execution_count": 283,
   "id": "dcfe9a25-1893-47c7-b833-2c9e9f4740b1",
   "metadata": {},
   "outputs": [
    {
     "data": {
      "text/html": [
       "\n",
       "    <video alt=\"Video3\" controls>\n",
       "        <source src=\"unencryptedVideo3.mp4\" type=\"video/mp4\">\n",
       "    </video>\n"
      ],
      "text/plain": [
       "<IPython.core.display.HTML object>"
      ]
     },
     "execution_count": 283,
     "metadata": {},
     "output_type": "execute_result"
    }
   ],
   "source": [
    "HTML(\"\"\"\n",
    "    <video alt=\"Video3\" controls>\n",
    "        <source src=\"unencryptedVideo3.mp4\" type=\"video/mp4\">\n",
    "    </video>\n",
    "\"\"\")"
   ]
  }
 ],
 "metadata": {
  "kernelspec": {
   "display_name": "SageMath 9.5",
   "language": "sage",
   "name": "sagemath"
  },
  "language_info": {
   "codemirror_mode": {
    "name": "ipython",
    "version": 3
   },
   "file_extension": ".py",
   "mimetype": "text/x-python",
   "name": "python",
   "nbconvert_exporter": "python",
   "pygments_lexer": "ipython3",
   "version": "3.10.6"
  }
 },
 "nbformat": 4,
 "nbformat_minor": 5
}
