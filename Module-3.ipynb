{
 "cells": [
  {
   "cell_type": "code",
   "execution_count": 1,
   "id": "d557755a-27a1-485a-95f5-c9da7409eb2c",
   "metadata": {},
   "outputs": [],
   "source": [
    "import sys\n",
    "import os\n",
    "import numpy as np\n",
    "from IPython.display import HTML\n",
    "from GetEncryptedData import getModuleData\n",
    "from importlib import reload"
   ]
  },
  {
   "cell_type": "markdown",
   "id": "750d8c5f-6071-4002-844e-93d2fd96ca40",
   "metadata": {},
   "source": [
    "<h1>INITIAL DATA! DO NOT OVERWRITE!</h1>"
   ]
  },
  {
   "cell_type": "code",
   "execution_count": 18,
   "id": "41a944ca-3823-4716-8e72-9cb8ff4d9f46",
   "metadata": {},
   "outputs": [],
   "source": [
    "encrypted_video = None\n",
    "encrypted_text = None\n",
    "with open('InstructorFiles/Functions/Videos/encryptedVideos/encryptedVideo3.mp4', 'rb') as videoFile:\n",
    "    encrypted_video = list(videoFile.read())\n",
    "\n",
    "with open('InstructorFiles/Functions/Texts/text3Encrypted.txt', 'rb') as textData:\n",
    "    encrypted_text = list(textData.read())"
   ]
  }
 ],
 "metadata": {
  "kernelspec": {
   "display_name": "SageMath 9.5",
   "language": "sage",
   "name": "sagemath"
  },
  "language_info": {
   "codemirror_mode": {
    "name": "ipython",
    "version": 3
   },
   "file_extension": ".py",
   "mimetype": "text/x-python",
   "name": "python",
   "nbconvert_exporter": "python",
   "pygments_lexer": "ipython3",
   "version": "3.10.6"
  }
 },
 "nbformat": 4,
 "nbformat_minor": 5
}
