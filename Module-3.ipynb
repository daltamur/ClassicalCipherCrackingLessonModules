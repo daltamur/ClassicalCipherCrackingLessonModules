{
 "cells": [
  {
   "cell_type": "code",
   "execution_count": 13,
   "id": "d557755a-27a1-485a-95f5-c9da7409eb2c",
   "metadata": {},
   "outputs": [],
   "source": [
    "import sys\n",
    "import os\n",
    "import numpy as np\n",
    "from IPython.display import HTML\n",
    "from GetEncryptedData import getModuleData\n",
    "from importlib import reload"
   ]
  },
  {
   "cell_type": "markdown",
   "id": "750d8c5f-6071-4002-844e-93d2fd96ca40",
   "metadata": {},
   "source": [
    "<h1>INITIAL DATA! DO NOT OVERWRITE! Make copies of them to work with.</h1>"
   ]
  },
  {
   "cell_type": "code",
   "execution_count": 21,
   "id": "41a944ca-3823-4716-8e72-9cb8ff4d9f46",
   "metadata": {},
   "outputs": [],
   "source": [
    "encrypted_video = None\n",
    "encrypted_text = None\n",
    "def save_video(video_data):\n",
    "    with open('unencryptedVideo1.mp4', 'wb') as videoFile:\n",
    "        encrypted_video = videoFile.write(bytes(video_data))\n",
    "        videoFile.close()\n",
    "with open('InstructorFiles/Functions/Videos/encryptedVideos/encryptedVideo3.mp4', 'rb') as videoFile:\n",
    "    encrypted_video = list(videoFile.read())\n",
    "\n",
    "with open('InstructorFiles/Functions/Texts/text3Encrypted.txt', 'rb') as textData:\n",
    "    encrypted_text = list(textData.read())"
   ]
  },
  {
   "cell_type": "code",
   "execution_count": 22,
   "id": "4ffb5533-8075-42c3-bc6c-65a2e93254cd",
   "metadata": {},
   "outputs": [],
   "source": [
    "encrypted_video = None\n",
    "encrypted_text = None\n",
    "with open('InstructorFiles/Functions/Videos/encryptedVideos/encryptedVideo3.mp4', 'rb') as videoFile:\n",
    "    encrypted_video = list(videoFile.read())\n",
    "\n",
    "with open('InstructorFiles/Functions/Texts/text3Encrypted.txt', 'rb') as textData:\n",
    "    encrypted_text = list(textData.read())"
   ]
  },
  {
   "cell_type": "code",
   "execution_count": 19,
   "id": "d2e7666b-aacb-4a4d-af61-c22f512c44f4",
   "metadata": {},
   "outputs": [
    {
     "data": {
      "text/html": [
       "\n",
       "    <video alt=\"Video1\" controls>\n",
       "        <source src=\"InstructorFiles/Functions/Videos/encryptedVideos/encryptedVideo3.mp4\" type=\"video/mp4\">\n",
       "    </video>\n"
      ],
      "text/plain": [
       "<IPython.core.display.HTML object>"
      ]
     },
     "execution_count": 19,
     "metadata": {},
     "output_type": "execute_result"
    }
   ],
   "source": [
    "#Initial video. Go ahead and test it, you'lll find the encryption has left it unplayable...\n",
    "HTML(\"\"\"\n",
    "    <video alt=\"Video1\" controls>\n",
    "        <source src=\"InstructorFiles/Functions/Videos/encryptedVideos/encryptedVideo3.mp4\" type=\"video/mp4\">\n",
    "    </video>\n",
    "\"\"\")"
   ]
  },
  {
   "cell_type": "markdown",
   "id": "93de7594-6035-4e06-b7fc-8efacec4e554",
   "metadata": {},
   "source": [
    "<h1>Lesson 3: Transparently Transposed</h1>"
   ]
  },
  {
   "cell_type": "markdown",
   "id": "3c93b59f-92ae-4712-8f06-fc1db522fa97",
   "metadata": {},
   "source": [
    "<h2>Example solution(s)</h1>"
   ]
  },
  {
   "cell_type": "markdown",
   "id": "85f54bbf-54ff-4896-821e-4ecc3dfbca1e",
   "metadata": {},
   "source": [
    "<h1>1.) First find the factors of the text. As provided previously, we already know that the matrix used is complete (though there may be some padding in the final row)</h1>"
   ]
  },
  {
   "cell_type": "code",
   "execution_count": 18,
   "id": "66ff0d63-5aac-4573-a58c-ff4491adc286",
   "metadata": {},
   "outputs": [
    {
     "data": {
      "text/plain": [
       "2 * 3^2 * 13"
      ]
     },
     "execution_count": 18,
     "metadata": {},
     "output_type": "execute_result"
    }
   ],
   "source": [
    "#Any of these factors can be the key length\n",
    "factor(len(encrypted_text))"
   ]
  },
  {
   "cell_type": "code",
   "execution_count": 20,
   "id": "2f2ee6a9-d3f5-4ee7-ae45-f9b13f95a4b1",
   "metadata": {},
   "outputs": [],
   "source": [
    "#^key length could be any of these values since I alread know it's 9 the rest of this will use 9 as the value, but 13 is the only other plausible value since doing it with a key\n",
    "#length of two wouldn't be very effective"
   ]
  },
  {
   "cell_type": "markdown",
   "id": "265fc1de-9960-466e-8f76-caa279ffd9de",
   "metadata": {},
   "source": [
    "<h1>2.) Find a way to print the transposition matrix of the data so that we can actually read it to analyze the data</h1>"
   ]
  },
  {
   "cell_type": "code",
   "execution_count": 42,
   "id": "f8a0f21d-b075-4ac8-a33a-1d8d858e54b7",
   "metadata": {},
   "outputs": [],
   "source": [
    "def print_transpo_matrix(data, key_length):\n",
    "    transpo_dict = dict()\n",
    "    i = 0\n",
    "    for x in range(0, key_length):\n",
    "        transpo_dict[x] = list()\n",
    "    for letter in data:\n",
    "        transpo_dict[i].append(letter)\n",
    "        i = mod(i+1, key_length)\n",
    "    header_string = ''\n",
    "    for i in range(0,9):\n",
    "        header_string = header_string+str(i)+' '\n",
    "    header_string=header_string+'\\n\\n'\n",
    "    print(header_string)"
   ]
  },
  {
   "cell_type": "code",
   "execution_count": 43,
   "id": "a26be0d5-d63c-4711-9838-e2cfae8bda1f",
   "metadata": {},
   "outputs": [
    {
     "name": "stdout",
     "output_type": "stream",
     "text": [
      "0 1 2 3 4 5 6 7 8 \n",
      "\n",
      "\n"
     ]
    }
   ],
   "source": [
    "print_transpo_matrix(encrypted_text, 9)"
   ]
  },
  {
   "cell_type": "code",
   "execution_count": null,
   "id": "b6b86d99-3218-4c39-bf0b-382702a50674",
   "metadata": {},
   "outputs": [],
   "source": []
  }
 ],
 "metadata": {
  "kernelspec": {
   "display_name": "SageMath 9.5",
   "language": "sage",
   "name": "sagemath"
  },
  "language_info": {
   "codemirror_mode": {
    "name": "ipython",
    "version": 3
   },
   "file_extension": ".py",
   "mimetype": "text/x-python",
   "name": "python",
   "nbconvert_exporter": "python",
   "pygments_lexer": "ipython3",
   "version": "3.10.6"
  }
 },
 "nbformat": 4,
 "nbformat_minor": 5
}
